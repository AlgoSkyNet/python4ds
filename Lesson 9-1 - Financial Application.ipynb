{
 "cells": [
  {
   "cell_type": "markdown",
   "metadata": {},
   "source": [
    "# Python as a Financial Calculator "
   ]
  },
  {
   "cell_type": "markdown",
   "metadata": {
    "heading_collapsed": true
   },
   "source": [
    "## Time Value of Money (Basic Python)"
   ]
  },
  {
   "cell_type": "markdown",
   "metadata": {
    "heading_collapsed": true,
    "hidden": true
   },
   "source": [
    "### Present value of single cashflow"
   ]
  },
  {
   "cell_type": "markdown",
   "metadata": {
    "hidden": true
   },
   "source": [
    "$$PV=\\frac{FV}{(1+r)^n}$$"
   ]
  },
  {
   "cell_type": "code",
   "execution_count": 1,
   "metadata": {
    "hidden": true
   },
   "outputs": [],
   "source": [
    "def pv(fv, r, n):\n",
    "    '''\n",
    "    Present value of a single cashflow\n",
    "    \n",
    "    -------\n",
    "    \n",
    "    fv : future value\n",
    "    r : interest rates\n",
    "    n : number of periods\n",
    "    '''\n",
    "    return fv / (1+r)**n"
   ]
  },
  {
   "cell_type": "code",
   "execution_count": 2,
   "metadata": {
    "hidden": true
   },
   "outputs": [
    {
     "data": {
      "text/plain": [
       "99.00990099009901"
      ]
     },
     "execution_count": 2,
     "metadata": {},
     "output_type": "execute_result"
    }
   ],
   "source": [
    "pv(100, 0.01, 1)"
   ]
  },
  {
   "cell_type": "code",
   "execution_count": 3,
   "metadata": {
    "hidden": true
   },
   "outputs": [
    {
     "data": {
      "text/plain": [
       "100.0"
      ]
     },
     "execution_count": 3,
     "metadata": {},
     "output_type": "execute_result"
    }
   ],
   "source": [
    "pv(100, 0.01, 0)"
   ]
  },
  {
   "cell_type": "code",
   "execution_count": null,
   "metadata": {
    "hidden": true
   },
   "outputs": [],
   "source": [
    "pv?"
   ]
  },
  {
   "cell_type": "markdown",
   "metadata": {
    "heading_collapsed": true,
    "hidden": true
   },
   "source": [
    "### Present value of perpetuity"
   ]
  },
  {
   "cell_type": "markdown",
   "metadata": {
    "hidden": true
   },
   "source": [
    "$$PV = \\frac{c}{r}$$"
   ]
  },
  {
   "cell_type": "code",
   "execution_count": 5,
   "metadata": {
    "hidden": true
   },
   "outputs": [],
   "source": [
    "def pv_perpetuity(c, r):\n",
    "    '''\n",
    "    Present value of perpetuity\n",
    "    \n",
    "    -----\n",
    "    \n",
    "    c : cashflow\n",
    "    f: interest rates\n",
    "    '''\n",
    "    return c / r"
   ]
  },
  {
   "cell_type": "code",
   "execution_count": 6,
   "metadata": {
    "hidden": true
   },
   "outputs": [
    {
     "data": {
      "text/plain": [
       "10000.0"
      ]
     },
     "execution_count": 6,
     "metadata": {},
     "output_type": "execute_result"
    }
   ],
   "source": [
    "pv_perpetuity(100, 0.01)"
   ]
  },
  {
   "cell_type": "code",
   "execution_count": 7,
   "metadata": {
    "hidden": true
   },
   "outputs": [],
   "source": [
    "int_range = [0.01, 0.02, 0.05, 0.1]"
   ]
  },
  {
   "cell_type": "code",
   "execution_count": 17,
   "metadata": {
    "hidden": true
   },
   "outputs": [
    {
     "name": "stdout",
     "output_type": "stream",
     "text": [
      "[INFO] Interest Rate = 1.0%, Present Value = 10000.0\n",
      "[INFO] Interest Rate = 2.0%, Present Value = 5000.0\n",
      "[INFO] Interest Rate = 5.0%, Present Value = 2000.0\n",
      "[INFO] Interest Rate = 10.0%, Present Value = 1000.0\n"
     ]
    }
   ],
   "source": [
    "for int_ in int_range:\n",
    "    print(\"[INFO] Interest Rate = {0}%, Present Value = {1}\".format(int_ * 100, pv_perpetuity(100, int_)))"
   ]
  },
  {
   "cell_type": "markdown",
   "metadata": {
    "heading_collapsed": true,
    "hidden": true
   },
   "source": [
    "### Present value of cashflow with constant growth"
   ]
  },
  {
   "cell_type": "code",
   "execution_count": 47,
   "metadata": {
    "hidden": true
   },
   "outputs": [],
   "source": [
    "def pv_constant_growth(c, r, g):\n",
    "    '''\n",
    "    Present value of cashflow with constant growth\n",
    "    Often used in calculating present value of dividend paying company with constant growth\n",
    "    -----\n",
    "    \n",
    "    c : first cash flow\n",
    "    r : discount rate / interest rates\n",
    "    g : growth rate\n",
    "    '''\n",
    "    if r < g:\n",
    "        print(\"Unable to compute because the required rate of return is lower than the growth rate\")\n",
    "    else:\n",
    "        return c / (r - g)    "
   ]
  },
  {
   "cell_type": "code",
   "execution_count": 48,
   "metadata": {
    "hidden": true
   },
   "outputs": [
    {
     "name": "stdout",
     "output_type": "stream",
     "text": [
      "Unable to compute because the required rate of return is lower than the growth rate\n"
     ]
    }
   ],
   "source": [
    "pv_constant_growth(c=100, r=0.02, g=0.05)"
   ]
  },
  {
   "cell_type": "code",
   "execution_count": 49,
   "metadata": {
    "hidden": true
   },
   "outputs": [
    {
     "data": {
      "text/plain": [
       "4999.999999999999"
      ]
     },
     "execution_count": 49,
     "metadata": {},
     "output_type": "execute_result"
    }
   ],
   "source": [
    "pv_constant_growth(c=100, r=0.07, g=0.05)"
   ]
  },
  {
   "cell_type": "markdown",
   "metadata": {
    "heading_collapsed": true,
    "hidden": true
   },
   "source": [
    "### Yet to be implemented:\n"
   ]
  },
  {
   "cell_type": "markdown",
   "metadata": {
    "hidden": true
   },
   "source": [
    "\n",
    "\n",
    "EAR / APR\n",
    "\n",
    "Bond Pricing\n",
    "\n",
    "Mortgage\n",
    "\n",
    "IRR\n",
    "\n",
    "Payback & NPV"
   ]
  },
  {
   "cell_type": "markdown",
   "metadata": {
    "heading_collapsed": true
   },
   "source": [
    "# Call Option (Scipy and Numpy)"
   ]
  },
  {
   "cell_type": "markdown",
   "metadata": {
    "hidden": true
   },
   "source": [
    "[The Complete Guide to Option Pricing Formulas / Edition 2 by Espen Haug](https://www.amazon.com/Complete-Guide-Option-Pricing-Formulas/dp/0071389970)"
   ]
  },
  {
   "cell_type": "code",
   "execution_count": 45,
   "metadata": {
    "hidden": true
   },
   "outputs": [],
   "source": [
    "def BlackScholes(S, X, T, r, sigma):\n",
    "    '''\n",
    "    Valuation of European call option\n",
    "    Black-Scholes (1973)\n",
    "    \n",
    "    \n",
    "    Parameters    \n",
    "    ==========    \n",
    "    S : float        \n",
    "        stock price\n",
    "    X : float        \n",
    "        strike price of option  \n",
    "    T : float        \n",
    "        time to expiration in years    \n",
    "    r : float       \n",
    "        risk-free interest rate \n",
    "    sigma : float        \n",
    "            volatility of the relative price change of the\n",
    "            underlying stock price\n",
    "    N(x) : The cumulative normal distribution function\n",
    "    \n",
    "    Returns    \n",
    "    =======    \n",
    "    call value : float        \n",
    "                 present value of the European call option   \n",
    "       \n",
    "    Example\n",
    "    =======\n",
    "    BlackScholes(S=60, X=65, T=0.25, r=0.08, sigma=0.3)\n",
    "    >>> 2.1333684449162007\n",
    "    \n",
    "    '''\n",
    "    import numpy as np\n",
    "    from scipy import stats\n",
    "    \n",
    "    d1 = (np.log(S/X) + (r + 0.5 * sigma ** 2) * T) / (sigma * np.sqrt(T))\n",
    "    d2 = d1 - sigma * np.sqrt(T)\n",
    "    n_d1 = stats.norm.cdf(d1)\n",
    "    n_d2 = stats.norm.cdf(d2)\n",
    "    call = S * n_d1 - X * np.exp(-r * T) * n_d2\n",
    "    return call"
   ]
  },
  {
   "cell_type": "code",
   "execution_count": 46,
   "metadata": {
    "hidden": true
   },
   "outputs": [
    {
     "data": {
      "text/plain": [
       "2.1333684449162007"
      ]
     },
     "execution_count": 46,
     "metadata": {},
     "output_type": "execute_result"
    }
   ],
   "source": [
    "BlackScholes(S=60, X=65, T=0.25, r=0.08, sigma=0.3)"
   ]
  },
  {
   "cell_type": "markdown",
   "metadata": {
    "heading_collapsed": true
   },
   "source": [
    "# Intro to Numpy and Scipy - Linear Regression, CAPM (Numpy, matplotlib, scipy, statsmodel)"
   ]
  },
  {
   "cell_type": "markdown",
   "metadata": {
    "heading_collapsed": true,
    "hidden": true
   },
   "source": [
    "## Interpolation"
   ]
  },
  {
   "cell_type": "markdown",
   "metadata": {
    "hidden": true
   },
   "source": [
    "[doc](https://docs.scipy.org/doc/scipy/reference/generated/scipy.interpolate.interp1d.html#scipy.interpolate.interp1d)"
   ]
  },
  {
   "cell_type": "code",
   "execution_count": null,
   "metadata": {
    "hidden": true
   },
   "outputs": [],
   "source": [
    "import matplotlib.pyplot as plt\n",
    "%matplotlib inline\n",
    "import numpy as np; import seaborn as sns; sns.set()\n",
    "from scipy import interpolate\n",
    "x = np.arange(0, 10)\n",
    "y = np.exp(-x/3.0)\n",
    "plt.scatter(x, y);"
   ]
  },
  {
   "cell_type": "code",
   "execution_count": null,
   "metadata": {
    "hidden": true
   },
   "outputs": [],
   "source": [
    "f = interpolate.interp1d(x, y)\n",
    "xnew = np.arange(0, 9, 0.1)\n",
    "ynew = f(xnew)   # use interpolation function returned by `interp1d`\n",
    "plt.scatter(x, y, s=50, c=\"green\");\n",
    "plt.scatter(xnew, ynew, s=1, c='black');"
   ]
  },
  {
   "cell_type": "code",
   "execution_count": null,
   "metadata": {
    "hidden": true
   },
   "outputs": [],
   "source": [
    "f = interpolate.interp1d(x, y, kind='cubic')\n",
    "xnew = np.arange(0, 9, 0.1)\n",
    "ynew = f(xnew)   # use interpolation function returned by `interp1d`\n",
    "plt.scatter(x, y, s=50, c=\"green\");\n",
    "plt.scatter(xnew, ynew, s=1, c='black');"
   ]
  },
  {
   "cell_type": "markdown",
   "metadata": {
    "heading_collapsed": true,
    "hidden": true
   },
   "source": [
    "## Optimisation"
   ]
  },
  {
   "cell_type": "code",
   "execution_count": null,
   "metadata": {
    "hidden": true
   },
   "outputs": [],
   "source": [
    "import scipy.optimize as optimize"
   ]
  },
  {
   "cell_type": "markdown",
   "metadata": {
    "hidden": true
   },
   "source": [
    "Estimate the value of $x$ that minimise the equation $x^2+x-18$"
   ]
  },
  {
   "cell_type": "code",
   "execution_count": null,
   "metadata": {
    "hidden": true
   },
   "outputs": [],
   "source": [
    "def func(x):\n",
    "    return x**2 + x - 18"
   ]
  },
  {
   "cell_type": "code",
   "execution_count": null,
   "metadata": {
    "hidden": true
   },
   "outputs": [],
   "source": [
    "optimize.fmin(func, 1)    # Setting 1 as the initial value"
   ]
  },
  {
   "cell_type": "markdown",
   "metadata": {
    "heading_collapsed": true,
    "hidden": true
   },
   "source": [
    "## CAPM"
   ]
  },
  {
   "cell_type": "markdown",
   "metadata": {
    "hidden": true
   },
   "source": [
    "$$r_i-r_f=\\alpha+\\beta_i(r_{mkt}-r_f)$$"
   ]
  },
  {
   "cell_type": "markdown",
   "metadata": {
    "heading_collapsed": true,
    "hidden": true
   },
   "source": [
    "### Scipy"
   ]
  },
  {
   "cell_type": "code",
   "execution_count": null,
   "metadata": {
    "hidden": true
   },
   "outputs": [],
   "source": [
    "stock_rtns = [0.2, 0.1, 0.12, 0.06, 0.04, 0.05, 0.07, 0.10]\n",
    "market_rtns = [0.15, 0.12, 0.10, 0.05, 0.03, 0.04, 0.06, 0.09]"
   ]
  },
  {
   "cell_type": "code",
   "execution_count": null,
   "metadata": {
    "hidden": true
   },
   "outputs": [],
   "source": [
    "from scipy import stats"
   ]
  },
  {
   "cell_type": "raw",
   "metadata": {
    "hidden": true
   },
   "source": [
    "'''Signature: stats.linregress(x, y=None)\n",
    "Docstring:\n",
    "Calculate a linear least-squares regression for two sets of measurements.\n",
    "\n",
    "Parameters\n",
    "----------\n",
    "x, y : array_like\n",
    "    Two sets of measurements.  Both arrays should have the same length.\n",
    "    If only x is given (and y=None), then it must be a two-dimensional\n",
    "    array where one dimension has length 2.  The two sets of measurements\n",
    "    are then found by splitting the array along the length-2 dimension.\n",
    "\n",
    "Returns\n",
    "-------\n",
    "slope : float\n",
    "    slope of the regression line\n",
    "intercept : float\n",
    "    intercept of the regression line\n",
    "rvalue : float\n",
    "    correlation coefficient\n",
    "pvalue : float\n",
    "    two-sided p-value for a hypothesis test whose null hypothesis is\n",
    "    that the slope is zero, using Wald Test with t-distribution of\n",
    "    the test statistic.\n",
    "stderr : float\n",
    "    Standard error of the estimated gradient.\n",
    "'''"
   ]
  },
  {
   "cell_type": "code",
   "execution_count": null,
   "metadata": {
    "hidden": true
   },
   "outputs": [],
   "source": [
    "beta, alpha, rho, p_value, std_error = stats.linregress(market_rtns, stock_rtns)"
   ]
  },
  {
   "cell_type": "code",
   "execution_count": null,
   "metadata": {
    "hidden": true
   },
   "outputs": [],
   "source": [
    "stats.linregress?"
   ]
  },
  {
   "cell_type": "code",
   "execution_count": null,
   "metadata": {
    "hidden": true
   },
   "outputs": [],
   "source": [
    "beta"
   ]
  },
  {
   "cell_type": "code",
   "execution_count": null,
   "metadata": {
    "hidden": true
   },
   "outputs": [],
   "source": [
    "alpha"
   ]
  },
  {
   "cell_type": "code",
   "execution_count": null,
   "metadata": {
    "hidden": true
   },
   "outputs": [],
   "source": [
    "rho**2"
   ]
  },
  {
   "cell_type": "code",
   "execution_count": null,
   "metadata": {
    "hidden": true
   },
   "outputs": [],
   "source": [
    "p_value"
   ]
  },
  {
   "cell_type": "markdown",
   "metadata": {
    "heading_collapsed": true,
    "hidden": true
   },
   "source": [
    "### Statsmodels"
   ]
  },
  {
   "cell_type": "code",
   "execution_count": null,
   "metadata": {
    "hidden": true
   },
   "outputs": [],
   "source": [
    "import statsmodels.api as sm"
   ]
  },
  {
   "cell_type": "code",
   "execution_count": null,
   "metadata": {
    "hidden": true
   },
   "outputs": [],
   "source": [
    "X = sm.add_constant(market_rtns)"
   ]
  },
  {
   "cell_type": "code",
   "execution_count": null,
   "metadata": {
    "hidden": true
   },
   "outputs": [],
   "source": [
    "np.c_[np.ones(len(stock_rtns)), market_rtns]"
   ]
  },
  {
   "cell_type": "code",
   "execution_count": null,
   "metadata": {
    "hidden": true
   },
   "outputs": [],
   "source": [
    "model = sm.OLS(stock_rtns, np.c_[np.ones(len(stock_rtns)), market_rtns])"
   ]
  },
  {
   "cell_type": "code",
   "execution_count": null,
   "metadata": {
    "hidden": true
   },
   "outputs": [],
   "source": [
    "results = model.fit()"
   ]
  },
  {
   "cell_type": "code",
   "execution_count": null,
   "metadata": {
    "hidden": true
   },
   "outputs": [],
   "source": [
    "results.summary()"
   ]
  },
  {
   "cell_type": "markdown",
   "metadata": {},
   "source": [
    "# Risk and Returns (Pandas, Matplotlib, Bokeh)"
   ]
  },
  {
   "cell_type": "markdown",
   "metadata": {
    "heading_collapsed": true
   },
   "source": [
    "### Return Distribution"
   ]
  },
  {
   "cell_type": "code",
   "execution_count": null,
   "metadata": {
    "hidden": true
   },
   "outputs": [],
   "source": [
    "import pandas_datareader.data as web\n",
    "from datetime import datetime\n",
    "start = datetime(1990, 1, 1)\n",
    "end = datetime(2018, 1, 1)\n",
    "prices = web.DataReader(['TSLA'], 'morningstar', start, end)"
   ]
  },
  {
   "cell_type": "code",
   "execution_count": null,
   "metadata": {
    "hidden": true
   },
   "outputs": [],
   "source": [
    "tesla = prices['Close'].pct_change()"
   ]
  },
  {
   "cell_type": "code",
   "execution_count": null,
   "metadata": {
    "hidden": true
   },
   "outputs": [],
   "source": [
    "mu = tesla.mean()\n",
    "sigma = tesla.std()"
   ]
  },
  {
   "cell_type": "code",
   "execution_count": null,
   "metadata": {
    "hidden": true
   },
   "outputs": [],
   "source": [
    "import matplotlib.pyplot as plt\n",
    "%matplotlib inline\n",
    "import matplotlib.mlab as mlab\n",
    "tesla = tesla.dropna()\n",
    "[n, bins, patches] = plt.hist(tesla.values, 100, normed=True) \n",
    "x = mlab.normpdf(bins, mu, sigma)\n",
    "plt.plot(bins, x, color='red', lw=2) \n",
    "plt.title(\"IBM return distribution\") \n",
    "plt.xlabel(\"Returns\") \n",
    "plt.ylabel(\"Frequency\");"
   ]
  },
  {
   "cell_type": "code",
   "execution_count": null,
   "metadata": {
    "hidden": true
   },
   "outputs": [],
   "source": [
    "from scipy.stats import norm\n",
    "plt.xlim(np.round(tesla.min(),1), np.round(tesla.max(),1))\n",
    "sns.distplot(tesla, bins=100, fit=norm, kde=False);"
   ]
  },
  {
   "cell_type": "markdown",
   "metadata": {
    "heading_collapsed": true
   },
   "source": [
    "### Candlesticks"
   ]
  },
  {
   "cell_type": "code",
   "execution_count": null,
   "metadata": {
    "hidden": true
   },
   "outputs": [],
   "source": [
    "from bokeh.plotting import figure, show, output_file\n",
    "from bokeh.io import output_notebook\n",
    "from math import pi\n",
    "\n",
    "import pandas_datareader.data as web\n",
    "from datetime import datetime\n",
    "start = datetime(2017, 10, 1)\n",
    "end = datetime(2018, 1, 1)\n",
    "prices = web.DataReader('F', 'morningstar', start, end)"
   ]
  },
  {
   "cell_type": "code",
   "execution_count": null,
   "metadata": {
    "hidden": true,
    "scrolled": true
   },
   "outputs": [],
   "source": [
    "f = prices.reset_index().set_index(\"Date\")[['Close', 'High', 'Low', 'Open', 'Volume']]\n",
    "f"
   ]
  },
  {
   "cell_type": "code",
   "execution_count": null,
   "metadata": {
    "hidden": true
   },
   "outputs": [],
   "source": [
    "inc = f.Close > f.Open\n",
    "dec = f.Open > f.Close\n",
    "w = 12*60*60*1000 # half day in ms\n",
    "\n",
    "TOOLS = \"pan,wheel_zoom,box_zoom,reset,save\"\n",
    "output_notebook()\n",
    "p = figure(x_axis_type=\"datetime\", tools=TOOLS, plot_width=800, title = \"F Candlestick\")\n",
    "p.xaxis.major_label_orientation = pi/4\n",
    "p.grid.grid_line_alpha=0.3\n",
    "p.segment(f.index, f.High, f.index, f.Low, color=\"black\")\n",
    "p.vbar(f.index[inc], w, f.Open[inc], f.Close[inc], fill_color=\"#2aff04\", line_color=\"black\")\n",
    "p.vbar(f.index[dec], w, f.Open[dec], f.Close[dec], fill_color=\"#F2583E\", line_color=\"black\")\n",
    "#output_file(\"candlestick.html\", title=\"candlestick.py example\")\n",
    "show(p);  # open a browser"
   ]
  },
  {
   "cell_type": "markdown",
   "metadata": {
    "heading_collapsed": true
   },
   "source": [
    "### Comparing return versus volatility for several stocks "
   ]
  },
  {
   "cell_type": "code",
   "execution_count": null,
   "metadata": {
    "hidden": true,
    "scrolled": true
   },
   "outputs": [],
   "source": [
    "import matplotlib.pyplot as plt\n",
    "%matplotlib inline\n",
    "import seaborn as sns\n",
    "sns.set()\n",
    "\n",
    "import pandas_datareader.data as web\n",
    "from datetime import datetime\n",
    "start = datetime(2015, 1, 1)\n",
    "end = datetime(2016, 1, 1)\n",
    "prices = web.DataReader(['SPY', 'KO', 'V', 'DIS'], 'morningstar', start, end)\n",
    "returns = prices[\"Close\"].unstack(level=-1).T.dropna().pct_change().dropna()\n",
    "rtn = np.array(returns.mean()) * 250\n",
    "vol = np.array(returns.std()) * np.sqrt(250)"
   ]
  },
  {
   "cell_type": "code",
   "execution_count": null,
   "metadata": {
    "hidden": true
   },
   "outputs": [],
   "source": [
    "labels = ['{0}'.format(i) for i in returns.columns]\n",
    "plt.xlabel('Volatility (annualized)')\n",
    "plt.ylabel('Annual return')\n",
    "plt.title('Return vs. volatility')\n",
    "\n",
    "\n",
    "color = np.array([ 0.18, 0.96, 0.75, 0.3])\n",
    "plt.scatter(vol, rtn, marker = 'o', c=color,s = 1000, \n",
    "            cmap=plt.get_cmap('Spectral'));\n",
    "\n",
    "\n",
    "for label, x, y in zip(labels, vol, rtn):\n",
    "    plt.annotate(label, \n",
    "                 xy = (x,y), \n",
    "                 xytext = (40, 30), \n",
    "                 textcoords = 'offset points',\n",
    "                 bbox = dict(boxstyle = 'square, pad=0.3',\n",
    "                             fc = 'yellow', \n",
    "                             alpha = 0.5),\n",
    "                 arrowprops = dict(arrowstyle = '->', \n",
    "                                   connectionstyle = 'arc3, rad = 0.3'))"
   ]
  },
  {
   "cell_type": "markdown",
   "metadata": {
    "hidden": true
   },
   "source": [
    "[matplotlib doc on annotation](https://matplotlib.org/2.0.2/users/annotations.html)"
   ]
  },
  {
   "cell_type": "markdown",
   "metadata": {},
   "source": [
    "# Time Series Analysis (Pandas, Scipy)"
   ]
  },
  {
   "cell_type": "markdown",
   "metadata": {},
   "source": [
    "### Data"
   ]
  },
  {
   "cell_type": "code",
   "execution_count": 50,
   "metadata": {},
   "outputs": [
    {
     "name": "stdout",
     "output_type": "stream",
     "text": [
      "Collecting pandas-datareader\n",
      "\u001b[?25l  Downloading https://files.pythonhosted.org/packages/be/76/639c60ede26458dadf76bacaa9cbcc76f8cc5082fb2b2d90d0a90c699d36/pandas_datareader-0.6.0-py2.py3-none-any.whl (103kB)\n",
      "\u001b[K    100% |████████████████████████████████| 112kB 13.7MB/s a 0:00:01\n",
      "\u001b[?25hRequirement already satisfied: wrapt in /Users/anthonyn/anaconda3/envs/del_dl/lib/python3.5/site-packages (from pandas-datareader) (1.10.11)\n",
      "Collecting requests-ftp (from pandas-datareader)\n",
      "  Downloading https://files.pythonhosted.org/packages/3d/ca/14b2ad1e93b5195eeaf56b86b7ecfd5ea2d5754a68d17aeb1e5b9f95b3cf/requests-ftp-0.3.1.tar.gz\n",
      "Requirement already satisfied: requests>=2.3.0 in /Users/anthonyn/anaconda3/envs/del_dl/lib/python3.5/site-packages (from pandas-datareader) (2.18.4)\n",
      "Requirement already satisfied: pandas>=0.19.2 in /Users/anthonyn/anaconda3/envs/del_dl/lib/python3.5/site-packages (from pandas-datareader) (0.22.0)\n",
      "Requirement already satisfied: lxml in /Users/anthonyn/anaconda3/envs/del_dl/lib/python3.5/site-packages (from pandas-datareader) (4.1.1)\n",
      "Collecting requests-file (from pandas-datareader)\n",
      "  Downloading https://files.pythonhosted.org/packages/23/9c/6e63c23c39e53d3df41c77a3d05a49a42c4e1383a6d2a5e3233161b89dbf/requests_file-1.4.3-py2.py3-none-any.whl\n",
      "Requirement already satisfied: chardet<3.1.0,>=3.0.2 in /Users/anthonyn/anaconda3/envs/del_dl/lib/python3.5/site-packages (from requests>=2.3.0->pandas-datareader) (3.0.4)\n",
      "Requirement already satisfied: idna<2.7,>=2.5 in /Users/anthonyn/anaconda3/envs/del_dl/lib/python3.5/site-packages (from requests>=2.3.0->pandas-datareader) (2.6)\n",
      "Requirement already satisfied: urllib3<1.23,>=1.21.1 in /Users/anthonyn/anaconda3/envs/del_dl/lib/python3.5/site-packages (from requests>=2.3.0->pandas-datareader) (1.22)\n",
      "Requirement already satisfied: certifi>=2017.4.17 in /Users/anthonyn/anaconda3/envs/del_dl/lib/python3.5/site-packages (from requests>=2.3.0->pandas-datareader) (2018.4.16)\n",
      "Requirement already satisfied: python-dateutil>=2 in /Users/anthonyn/anaconda3/envs/del_dl/lib/python3.5/site-packages (from pandas>=0.19.2->pandas-datareader) (2.6.1)\n",
      "Requirement already satisfied: pytz>=2011k in /Users/anthonyn/anaconda3/envs/del_dl/lib/python3.5/site-packages (from pandas>=0.19.2->pandas-datareader) (2017.3)\n",
      "Requirement already satisfied: numpy>=1.9.0 in /Users/anthonyn/anaconda3/envs/del_dl/lib/python3.5/site-packages (from pandas>=0.19.2->pandas-datareader) (1.14.3)\n",
      "Requirement already satisfied: six in /Users/anthonyn/anaconda3/envs/del_dl/lib/python3.5/site-packages (from requests-file->pandas-datareader) (1.11.0)\n",
      "Building wheels for collected packages: requests-ftp\n",
      "  Running setup.py bdist_wheel for requests-ftp ... \u001b[?25ldone\n",
      "\u001b[?25h  Stored in directory: /Users/anthonyn/Library/Caches/pip/wheels/2a/98/32/37195e45a3392a73d9f65c488cbea30fe5bad76aaef4d6b020\n",
      "Successfully built requests-ftp\n",
      "\u001b[31mcoremltools 0.8 has requirement six==1.10.0, but you'll have six 1.11.0 which is incompatible.\u001b[0m\n",
      "\u001b[31mtensorboard 1.8.0 has requirement bleach==1.5.0, but you'll have bleach 2.1.2 which is incompatible.\u001b[0m\n",
      "\u001b[31mtensorboard 1.8.0 has requirement html5lib==0.9999999, but you'll have html5lib 1.0.1 which is incompatible.\u001b[0m\n",
      "Installing collected packages: requests-ftp, requests-file, pandas-datareader\n",
      "Successfully installed pandas-datareader-0.6.0 requests-file-1.4.3 requests-ftp-0.3.1\n"
     ]
    }
   ],
   "source": [
    "!pip install pandas-datareader"
   ]
  },
  {
   "cell_type": "code",
   "execution_count": 51,
   "metadata": {},
   "outputs": [],
   "source": [
    "import pandas_datareader.data as web"
   ]
  },
  {
   "cell_type": "code",
   "execution_count": 52,
   "metadata": {},
   "outputs": [],
   "source": [
    "from datetime import datetime"
   ]
  },
  {
   "cell_type": "code",
   "execution_count": 53,
   "metadata": {},
   "outputs": [],
   "source": [
    "start = datetime(2017, 1, 1)\n",
    "end = datetime(2018, 1, 1)"
   ]
  },
  {
   "cell_type": "code",
   "execution_count": 54,
   "metadata": {},
   "outputs": [],
   "source": [
    "prices = web.DataReader(['SPY', 'IBM', 'MSFT', 'XOM'], 'morningstar', start, end)"
   ]
  },
  {
   "cell_type": "code",
   "execution_count": 55,
   "metadata": {
    "scrolled": true
   },
   "outputs": [
    {
     "data": {
      "text/html": [
       "<div>\n",
       "<style scoped>\n",
       "    .dataframe tbody tr th:only-of-type {\n",
       "        vertical-align: middle;\n",
       "    }\n",
       "\n",
       "    .dataframe tbody tr th {\n",
       "        vertical-align: top;\n",
       "    }\n",
       "\n",
       "    .dataframe thead th {\n",
       "        text-align: right;\n",
       "    }\n",
       "</style>\n",
       "<table border=\"1\" class=\"dataframe\">\n",
       "  <thead>\n",
       "    <tr style=\"text-align: right;\">\n",
       "      <th></th>\n",
       "      <th></th>\n",
       "      <th>Close</th>\n",
       "      <th>High</th>\n",
       "      <th>Low</th>\n",
       "      <th>Open</th>\n",
       "      <th>Volume</th>\n",
       "    </tr>\n",
       "    <tr>\n",
       "      <th>Symbol</th>\n",
       "      <th>Date</th>\n",
       "      <th></th>\n",
       "      <th></th>\n",
       "      <th></th>\n",
       "      <th></th>\n",
       "      <th></th>\n",
       "    </tr>\n",
       "  </thead>\n",
       "  <tbody>\n",
       "    <tr>\n",
       "      <th rowspan=\"30\" valign=\"top\">SPY</th>\n",
       "      <th>2017-01-02</th>\n",
       "      <td>223.53</td>\n",
       "      <td>224.8300</td>\n",
       "      <td>222.7300</td>\n",
       "      <td>224.730</td>\n",
       "      <td>0</td>\n",
       "    </tr>\n",
       "    <tr>\n",
       "      <th>2017-01-03</th>\n",
       "      <td>225.24</td>\n",
       "      <td>225.8300</td>\n",
       "      <td>223.8837</td>\n",
       "      <td>225.040</td>\n",
       "      <td>91366522</td>\n",
       "    </tr>\n",
       "    <tr>\n",
       "      <th>2017-01-04</th>\n",
       "      <td>226.58</td>\n",
       "      <td>226.7500</td>\n",
       "      <td>225.6100</td>\n",
       "      <td>225.620</td>\n",
       "      <td>78744433</td>\n",
       "    </tr>\n",
       "    <tr>\n",
       "      <th>2017-01-05</th>\n",
       "      <td>226.40</td>\n",
       "      <td>226.5800</td>\n",
       "      <td>225.4800</td>\n",
       "      <td>226.270</td>\n",
       "      <td>78379012</td>\n",
       "    </tr>\n",
       "    <tr>\n",
       "      <th>2017-01-06</th>\n",
       "      <td>227.21</td>\n",
       "      <td>227.7500</td>\n",
       "      <td>225.9000</td>\n",
       "      <td>226.530</td>\n",
       "      <td>71559922</td>\n",
       "    </tr>\n",
       "    <tr>\n",
       "      <th>2017-01-09</th>\n",
       "      <td>226.46</td>\n",
       "      <td>227.0701</td>\n",
       "      <td>226.4163</td>\n",
       "      <td>226.910</td>\n",
       "      <td>46939676</td>\n",
       "    </tr>\n",
       "    <tr>\n",
       "      <th>2017-01-10</th>\n",
       "      <td>226.46</td>\n",
       "      <td>227.4500</td>\n",
       "      <td>226.0100</td>\n",
       "      <td>226.480</td>\n",
       "      <td>63771939</td>\n",
       "    </tr>\n",
       "    <tr>\n",
       "      <th>2017-01-11</th>\n",
       "      <td>227.10</td>\n",
       "      <td>227.1000</td>\n",
       "      <td>225.5900</td>\n",
       "      <td>226.360</td>\n",
       "      <td>74650016</td>\n",
       "    </tr>\n",
       "    <tr>\n",
       "      <th>2017-01-12</th>\n",
       "      <td>226.53</td>\n",
       "      <td>226.7500</td>\n",
       "      <td>224.9550</td>\n",
       "      <td>226.500</td>\n",
       "      <td>72113181</td>\n",
       "    </tr>\n",
       "    <tr>\n",
       "      <th>2017-01-13</th>\n",
       "      <td>227.05</td>\n",
       "      <td>227.4000</td>\n",
       "      <td>226.6900</td>\n",
       "      <td>226.730</td>\n",
       "      <td>62717865</td>\n",
       "    </tr>\n",
       "    <tr>\n",
       "      <th>2017-01-16</th>\n",
       "      <td>227.05</td>\n",
       "      <td>227.4000</td>\n",
       "      <td>226.6900</td>\n",
       "      <td>226.730</td>\n",
       "      <td>0</td>\n",
       "    </tr>\n",
       "    <tr>\n",
       "      <th>2017-01-17</th>\n",
       "      <td>226.25</td>\n",
       "      <td>226.7800</td>\n",
       "      <td>225.8000</td>\n",
       "      <td>226.310</td>\n",
       "      <td>61240814</td>\n",
       "    </tr>\n",
       "    <tr>\n",
       "      <th>2017-01-18</th>\n",
       "      <td>226.75</td>\n",
       "      <td>226.8000</td>\n",
       "      <td>225.9000</td>\n",
       "      <td>226.535</td>\n",
       "      <td>54793302</td>\n",
       "    </tr>\n",
       "    <tr>\n",
       "      <th>2017-01-19</th>\n",
       "      <td>225.91</td>\n",
       "      <td>227.0000</td>\n",
       "      <td>225.4100</td>\n",
       "      <td>226.840</td>\n",
       "      <td>66608787</td>\n",
       "    </tr>\n",
       "    <tr>\n",
       "      <th>2017-01-20</th>\n",
       "      <td>226.74</td>\n",
       "      <td>227.3100</td>\n",
       "      <td>225.9719</td>\n",
       "      <td>226.700</td>\n",
       "      <td>129168623</td>\n",
       "    </tr>\n",
       "    <tr>\n",
       "      <th>2017-01-23</th>\n",
       "      <td>226.15</td>\n",
       "      <td>226.8050</td>\n",
       "      <td>225.2700</td>\n",
       "      <td>226.350</td>\n",
       "      <td>75061645</td>\n",
       "    </tr>\n",
       "    <tr>\n",
       "      <th>2017-01-24</th>\n",
       "      <td>227.60</td>\n",
       "      <td>228.0800</td>\n",
       "      <td>226.2700</td>\n",
       "      <td>226.400</td>\n",
       "      <td>95555295</td>\n",
       "    </tr>\n",
       "    <tr>\n",
       "      <th>2017-01-25</th>\n",
       "      <td>229.57</td>\n",
       "      <td>229.5700</td>\n",
       "      <td>228.5100</td>\n",
       "      <td>228.700</td>\n",
       "      <td>84437712</td>\n",
       "    </tr>\n",
       "    <tr>\n",
       "      <th>2017-01-26</th>\n",
       "      <td>229.33</td>\n",
       "      <td>229.7100</td>\n",
       "      <td>229.0100</td>\n",
       "      <td>229.400</td>\n",
       "      <td>59970719</td>\n",
       "    </tr>\n",
       "    <tr>\n",
       "      <th>2017-01-27</th>\n",
       "      <td>228.97</td>\n",
       "      <td>229.5900</td>\n",
       "      <td>228.7600</td>\n",
       "      <td>229.420</td>\n",
       "      <td>59711118</td>\n",
       "    </tr>\n",
       "    <tr>\n",
       "      <th>2017-01-30</th>\n",
       "      <td>227.55</td>\n",
       "      <td>228.2000</td>\n",
       "      <td>226.4100</td>\n",
       "      <td>228.170</td>\n",
       "      <td>79737252</td>\n",
       "    </tr>\n",
       "    <tr>\n",
       "      <th>2017-01-31</th>\n",
       "      <td>227.53</td>\n",
       "      <td>227.6000</td>\n",
       "      <td>226.3200</td>\n",
       "      <td>226.980</td>\n",
       "      <td>75880805</td>\n",
       "    </tr>\n",
       "    <tr>\n",
       "      <th>2017-02-01</th>\n",
       "      <td>227.62</td>\n",
       "      <td>228.5900</td>\n",
       "      <td>226.9400</td>\n",
       "      <td>228.255</td>\n",
       "      <td>79117651</td>\n",
       "    </tr>\n",
       "    <tr>\n",
       "      <th>2017-02-02</th>\n",
       "      <td>227.77</td>\n",
       "      <td>228.1000</td>\n",
       "      <td>226.8200</td>\n",
       "      <td>227.200</td>\n",
       "      <td>69657560</td>\n",
       "    </tr>\n",
       "    <tr>\n",
       "      <th>2017-02-03</th>\n",
       "      <td>229.34</td>\n",
       "      <td>229.5500</td>\n",
       "      <td>228.4600</td>\n",
       "      <td>228.820</td>\n",
       "      <td>80563168</td>\n",
       "    </tr>\n",
       "    <tr>\n",
       "      <th>2017-02-06</th>\n",
       "      <td>228.93</td>\n",
       "      <td>229.3260</td>\n",
       "      <td>228.5400</td>\n",
       "      <td>228.870</td>\n",
       "      <td>57790108</td>\n",
       "    </tr>\n",
       "    <tr>\n",
       "      <th>2017-02-07</th>\n",
       "      <td>228.94</td>\n",
       "      <td>229.6556</td>\n",
       "      <td>228.7200</td>\n",
       "      <td>229.380</td>\n",
       "      <td>57931151</td>\n",
       "    </tr>\n",
       "    <tr>\n",
       "      <th>2017-02-08</th>\n",
       "      <td>229.24</td>\n",
       "      <td>229.3900</td>\n",
       "      <td>228.3100</td>\n",
       "      <td>228.610</td>\n",
       "      <td>51566218</td>\n",
       "    </tr>\n",
       "    <tr>\n",
       "      <th>2017-02-09</th>\n",
       "      <td>230.60</td>\n",
       "      <td>230.9500</td>\n",
       "      <td>229.5200</td>\n",
       "      <td>229.560</td>\n",
       "      <td>65955245</td>\n",
       "    </tr>\n",
       "    <tr>\n",
       "      <th>2017-02-10</th>\n",
       "      <td>231.51</td>\n",
       "      <td>231.7700</td>\n",
       "      <td>230.6216</td>\n",
       "      <td>231.000</td>\n",
       "      <td>66015891</td>\n",
       "    </tr>\n",
       "    <tr>\n",
       "      <th>...</th>\n",
       "      <th>...</th>\n",
       "      <td>...</td>\n",
       "      <td>...</td>\n",
       "      <td>...</td>\n",
       "      <td>...</td>\n",
       "      <td>...</td>\n",
       "    </tr>\n",
       "    <tr>\n",
       "      <th rowspan=\"30\" valign=\"top\">XOM</th>\n",
       "      <th>2017-11-21</th>\n",
       "      <td>80.87</td>\n",
       "      <td>81.2500</td>\n",
       "      <td>80.6400</td>\n",
       "      <td>80.690</td>\n",
       "      <td>8838367</td>\n",
       "    </tr>\n",
       "    <tr>\n",
       "      <th>2017-11-22</th>\n",
       "      <td>81.10</td>\n",
       "      <td>81.4051</td>\n",
       "      <td>81.0500</td>\n",
       "      <td>81.160</td>\n",
       "      <td>7941632</td>\n",
       "    </tr>\n",
       "    <tr>\n",
       "      <th>2017-11-23</th>\n",
       "      <td>81.10</td>\n",
       "      <td>81.1000</td>\n",
       "      <td>81.1000</td>\n",
       "      <td>81.100</td>\n",
       "      <td>0</td>\n",
       "    </tr>\n",
       "    <tr>\n",
       "      <th>2017-11-24</th>\n",
       "      <td>81.42</td>\n",
       "      <td>81.7000</td>\n",
       "      <td>81.2200</td>\n",
       "      <td>81.440</td>\n",
       "      <td>3851283</td>\n",
       "    </tr>\n",
       "    <tr>\n",
       "      <th>2017-11-27</th>\n",
       "      <td>81.11</td>\n",
       "      <td>81.4000</td>\n",
       "      <td>81.0200</td>\n",
       "      <td>81.320</td>\n",
       "      <td>9127527</td>\n",
       "    </tr>\n",
       "    <tr>\n",
       "      <th>2017-11-28</th>\n",
       "      <td>81.67</td>\n",
       "      <td>81.9990</td>\n",
       "      <td>81.3100</td>\n",
       "      <td>81.410</td>\n",
       "      <td>9794574</td>\n",
       "    </tr>\n",
       "    <tr>\n",
       "      <th>2017-11-29</th>\n",
       "      <td>82.27</td>\n",
       "      <td>82.3100</td>\n",
       "      <td>81.4800</td>\n",
       "      <td>81.650</td>\n",
       "      <td>9724992</td>\n",
       "    </tr>\n",
       "    <tr>\n",
       "      <th>2017-11-30</th>\n",
       "      <td>83.29</td>\n",
       "      <td>83.4000</td>\n",
       "      <td>82.4100</td>\n",
       "      <td>82.450</td>\n",
       "      <td>18592679</td>\n",
       "    </tr>\n",
       "    <tr>\n",
       "      <th>2017-12-01</th>\n",
       "      <td>83.46</td>\n",
       "      <td>84.1300</td>\n",
       "      <td>82.4100</td>\n",
       "      <td>83.440</td>\n",
       "      <td>13779254</td>\n",
       "    </tr>\n",
       "    <tr>\n",
       "      <th>2017-12-04</th>\n",
       "      <td>83.57</td>\n",
       "      <td>84.1750</td>\n",
       "      <td>83.0000</td>\n",
       "      <td>83.210</td>\n",
       "      <td>12597705</td>\n",
       "    </tr>\n",
       "    <tr>\n",
       "      <th>2017-12-05</th>\n",
       "      <td>82.89</td>\n",
       "      <td>83.7700</td>\n",
       "      <td>82.7100</td>\n",
       "      <td>83.500</td>\n",
       "      <td>9357185</td>\n",
       "    </tr>\n",
       "    <tr>\n",
       "      <th>2017-12-06</th>\n",
       "      <td>82.28</td>\n",
       "      <td>83.2000</td>\n",
       "      <td>82.2100</td>\n",
       "      <td>83.080</td>\n",
       "      <td>13398866</td>\n",
       "    </tr>\n",
       "    <tr>\n",
       "      <th>2017-12-07</th>\n",
       "      <td>82.55</td>\n",
       "      <td>82.6200</td>\n",
       "      <td>82.1700</td>\n",
       "      <td>82.400</td>\n",
       "      <td>11359598</td>\n",
       "    </tr>\n",
       "    <tr>\n",
       "      <th>2017-12-08</th>\n",
       "      <td>82.66</td>\n",
       "      <td>82.9000</td>\n",
       "      <td>82.2600</td>\n",
       "      <td>82.750</td>\n",
       "      <td>11988633</td>\n",
       "    </tr>\n",
       "    <tr>\n",
       "      <th>2017-12-11</th>\n",
       "      <td>83.03</td>\n",
       "      <td>83.2500</td>\n",
       "      <td>82.7400</td>\n",
       "      <td>82.950</td>\n",
       "      <td>8760735</td>\n",
       "    </tr>\n",
       "    <tr>\n",
       "      <th>2017-12-12</th>\n",
       "      <td>82.76</td>\n",
       "      <td>83.3800</td>\n",
       "      <td>82.7000</td>\n",
       "      <td>83.090</td>\n",
       "      <td>11307030</td>\n",
       "    </tr>\n",
       "    <tr>\n",
       "      <th>2017-12-13</th>\n",
       "      <td>83.12</td>\n",
       "      <td>83.3000</td>\n",
       "      <td>82.4800</td>\n",
       "      <td>82.610</td>\n",
       "      <td>10172650</td>\n",
       "    </tr>\n",
       "    <tr>\n",
       "      <th>2017-12-14</th>\n",
       "      <td>82.90</td>\n",
       "      <td>83.3300</td>\n",
       "      <td>82.8900</td>\n",
       "      <td>83.030</td>\n",
       "      <td>9492394</td>\n",
       "    </tr>\n",
       "    <tr>\n",
       "      <th>2017-12-15</th>\n",
       "      <td>83.03</td>\n",
       "      <td>83.2800</td>\n",
       "      <td>82.8700</td>\n",
       "      <td>83.160</td>\n",
       "      <td>26582332</td>\n",
       "    </tr>\n",
       "    <tr>\n",
       "      <th>2017-12-18</th>\n",
       "      <td>82.94</td>\n",
       "      <td>83.6744</td>\n",
       "      <td>82.9100</td>\n",
       "      <td>83.180</td>\n",
       "      <td>9363466</td>\n",
       "    </tr>\n",
       "    <tr>\n",
       "      <th>2017-12-19</th>\n",
       "      <td>82.44</td>\n",
       "      <td>83.1700</td>\n",
       "      <td>82.3300</td>\n",
       "      <td>83.030</td>\n",
       "      <td>10285052</td>\n",
       "    </tr>\n",
       "    <tr>\n",
       "      <th>2017-12-20</th>\n",
       "      <td>82.87</td>\n",
       "      <td>83.1400</td>\n",
       "      <td>82.5201</td>\n",
       "      <td>82.600</td>\n",
       "      <td>10620305</td>\n",
       "    </tr>\n",
       "    <tr>\n",
       "      <th>2017-12-21</th>\n",
       "      <td>83.85</td>\n",
       "      <td>84.2700</td>\n",
       "      <td>82.9600</td>\n",
       "      <td>83.350</td>\n",
       "      <td>13578133</td>\n",
       "    </tr>\n",
       "    <tr>\n",
       "      <th>2017-12-22</th>\n",
       "      <td>83.97</td>\n",
       "      <td>84.0200</td>\n",
       "      <td>83.6000</td>\n",
       "      <td>83.880</td>\n",
       "      <td>10161447</td>\n",
       "    </tr>\n",
       "    <tr>\n",
       "      <th>2017-12-25</th>\n",
       "      <td>83.97</td>\n",
       "      <td>83.9700</td>\n",
       "      <td>83.9700</td>\n",
       "      <td>83.970</td>\n",
       "      <td>0</td>\n",
       "    </tr>\n",
       "    <tr>\n",
       "      <th>2017-12-26</th>\n",
       "      <td>83.98</td>\n",
       "      <td>84.3600</td>\n",
       "      <td>83.9000</td>\n",
       "      <td>83.960</td>\n",
       "      <td>4777216</td>\n",
       "    </tr>\n",
       "    <tr>\n",
       "      <th>2017-12-27</th>\n",
       "      <td>83.90</td>\n",
       "      <td>84.1000</td>\n",
       "      <td>83.7400</td>\n",
       "      <td>83.990</td>\n",
       "      <td>7000612</td>\n",
       "    </tr>\n",
       "    <tr>\n",
       "      <th>2017-12-28</th>\n",
       "      <td>84.02</td>\n",
       "      <td>84.0500</td>\n",
       "      <td>83.8000</td>\n",
       "      <td>83.980</td>\n",
       "      <td>7495254</td>\n",
       "    </tr>\n",
       "    <tr>\n",
       "      <th>2017-12-29</th>\n",
       "      <td>83.64</td>\n",
       "      <td>84.2000</td>\n",
       "      <td>83.6400</td>\n",
       "      <td>84.000</td>\n",
       "      <td>8523411</td>\n",
       "    </tr>\n",
       "    <tr>\n",
       "      <th>2018-01-01</th>\n",
       "      <td>83.64</td>\n",
       "      <td>83.6400</td>\n",
       "      <td>83.6400</td>\n",
       "      <td>83.640</td>\n",
       "      <td>0</td>\n",
       "    </tr>\n",
       "  </tbody>\n",
       "</table>\n",
       "<p>1044 rows × 5 columns</p>\n",
       "</div>"
      ],
      "text/plain": [
       "                    Close      High       Low     Open     Volume\n",
       "Symbol Date                                                      \n",
       "SPY    2017-01-02  223.53  224.8300  222.7300  224.730          0\n",
       "       2017-01-03  225.24  225.8300  223.8837  225.040   91366522\n",
       "       2017-01-04  226.58  226.7500  225.6100  225.620   78744433\n",
       "       2017-01-05  226.40  226.5800  225.4800  226.270   78379012\n",
       "       2017-01-06  227.21  227.7500  225.9000  226.530   71559922\n",
       "       2017-01-09  226.46  227.0701  226.4163  226.910   46939676\n",
       "       2017-01-10  226.46  227.4500  226.0100  226.480   63771939\n",
       "       2017-01-11  227.10  227.1000  225.5900  226.360   74650016\n",
       "       2017-01-12  226.53  226.7500  224.9550  226.500   72113181\n",
       "       2017-01-13  227.05  227.4000  226.6900  226.730   62717865\n",
       "       2017-01-16  227.05  227.4000  226.6900  226.730          0\n",
       "       2017-01-17  226.25  226.7800  225.8000  226.310   61240814\n",
       "       2017-01-18  226.75  226.8000  225.9000  226.535   54793302\n",
       "       2017-01-19  225.91  227.0000  225.4100  226.840   66608787\n",
       "       2017-01-20  226.74  227.3100  225.9719  226.700  129168623\n",
       "       2017-01-23  226.15  226.8050  225.2700  226.350   75061645\n",
       "       2017-01-24  227.60  228.0800  226.2700  226.400   95555295\n",
       "       2017-01-25  229.57  229.5700  228.5100  228.700   84437712\n",
       "       2017-01-26  229.33  229.7100  229.0100  229.400   59970719\n",
       "       2017-01-27  228.97  229.5900  228.7600  229.420   59711118\n",
       "       2017-01-30  227.55  228.2000  226.4100  228.170   79737252\n",
       "       2017-01-31  227.53  227.6000  226.3200  226.980   75880805\n",
       "       2017-02-01  227.62  228.5900  226.9400  228.255   79117651\n",
       "       2017-02-02  227.77  228.1000  226.8200  227.200   69657560\n",
       "       2017-02-03  229.34  229.5500  228.4600  228.820   80563168\n",
       "       2017-02-06  228.93  229.3260  228.5400  228.870   57790108\n",
       "       2017-02-07  228.94  229.6556  228.7200  229.380   57931151\n",
       "       2017-02-08  229.24  229.3900  228.3100  228.610   51566218\n",
       "       2017-02-09  230.60  230.9500  229.5200  229.560   65955245\n",
       "       2017-02-10  231.51  231.7700  230.6216  231.000   66015891\n",
       "...                   ...       ...       ...      ...        ...\n",
       "XOM    2017-11-21   80.87   81.2500   80.6400   80.690    8838367\n",
       "       2017-11-22   81.10   81.4051   81.0500   81.160    7941632\n",
       "       2017-11-23   81.10   81.1000   81.1000   81.100          0\n",
       "       2017-11-24   81.42   81.7000   81.2200   81.440    3851283\n",
       "       2017-11-27   81.11   81.4000   81.0200   81.320    9127527\n",
       "       2017-11-28   81.67   81.9990   81.3100   81.410    9794574\n",
       "       2017-11-29   82.27   82.3100   81.4800   81.650    9724992\n",
       "       2017-11-30   83.29   83.4000   82.4100   82.450   18592679\n",
       "       2017-12-01   83.46   84.1300   82.4100   83.440   13779254\n",
       "       2017-12-04   83.57   84.1750   83.0000   83.210   12597705\n",
       "       2017-12-05   82.89   83.7700   82.7100   83.500    9357185\n",
       "       2017-12-06   82.28   83.2000   82.2100   83.080   13398866\n",
       "       2017-12-07   82.55   82.6200   82.1700   82.400   11359598\n",
       "       2017-12-08   82.66   82.9000   82.2600   82.750   11988633\n",
       "       2017-12-11   83.03   83.2500   82.7400   82.950    8760735\n",
       "       2017-12-12   82.76   83.3800   82.7000   83.090   11307030\n",
       "       2017-12-13   83.12   83.3000   82.4800   82.610   10172650\n",
       "       2017-12-14   82.90   83.3300   82.8900   83.030    9492394\n",
       "       2017-12-15   83.03   83.2800   82.8700   83.160   26582332\n",
       "       2017-12-18   82.94   83.6744   82.9100   83.180    9363466\n",
       "       2017-12-19   82.44   83.1700   82.3300   83.030   10285052\n",
       "       2017-12-20   82.87   83.1400   82.5201   82.600   10620305\n",
       "       2017-12-21   83.85   84.2700   82.9600   83.350   13578133\n",
       "       2017-12-22   83.97   84.0200   83.6000   83.880   10161447\n",
       "       2017-12-25   83.97   83.9700   83.9700   83.970          0\n",
       "       2017-12-26   83.98   84.3600   83.9000   83.960    4777216\n",
       "       2017-12-27   83.90   84.1000   83.7400   83.990    7000612\n",
       "       2017-12-28   84.02   84.0500   83.8000   83.980    7495254\n",
       "       2017-12-29   83.64   84.2000   83.6400   84.000    8523411\n",
       "       2018-01-01   83.64   83.6400   83.6400   83.640          0\n",
       "\n",
       "[1044 rows x 5 columns]"
      ]
     },
     "execution_count": 55,
     "metadata": {},
     "output_type": "execute_result"
    }
   ],
   "source": [
    "prices"
   ]
  },
  {
   "cell_type": "code",
   "execution_count": 56,
   "metadata": {},
   "outputs": [],
   "source": [
    "prices['returns'] = prices['Close'].pct_change()"
   ]
  },
  {
   "cell_type": "code",
   "execution_count": 57,
   "metadata": {
    "scrolled": true
   },
   "outputs": [
    {
     "data": {
      "text/html": [
       "<div>\n",
       "<style scoped>\n",
       "    .dataframe tbody tr th:only-of-type {\n",
       "        vertical-align: middle;\n",
       "    }\n",
       "\n",
       "    .dataframe tbody tr th {\n",
       "        vertical-align: top;\n",
       "    }\n",
       "\n",
       "    .dataframe thead th {\n",
       "        text-align: right;\n",
       "    }\n",
       "</style>\n",
       "<table border=\"1\" class=\"dataframe\">\n",
       "  <thead>\n",
       "    <tr style=\"text-align: right;\">\n",
       "      <th></th>\n",
       "      <th></th>\n",
       "      <th>Close</th>\n",
       "      <th>High</th>\n",
       "      <th>Low</th>\n",
       "      <th>Open</th>\n",
       "      <th>Volume</th>\n",
       "      <th>returns</th>\n",
       "    </tr>\n",
       "    <tr>\n",
       "      <th>Symbol</th>\n",
       "      <th>Date</th>\n",
       "      <th></th>\n",
       "      <th></th>\n",
       "      <th></th>\n",
       "      <th></th>\n",
       "      <th></th>\n",
       "      <th></th>\n",
       "    </tr>\n",
       "  </thead>\n",
       "  <tbody>\n",
       "    <tr>\n",
       "      <th rowspan=\"30\" valign=\"top\">SPY</th>\n",
       "      <th>2017-01-02</th>\n",
       "      <td>223.53</td>\n",
       "      <td>224.8300</td>\n",
       "      <td>222.7300</td>\n",
       "      <td>224.730</td>\n",
       "      <td>0</td>\n",
       "      <td>NaN</td>\n",
       "    </tr>\n",
       "    <tr>\n",
       "      <th>2017-01-03</th>\n",
       "      <td>225.24</td>\n",
       "      <td>225.8300</td>\n",
       "      <td>223.8837</td>\n",
       "      <td>225.040</td>\n",
       "      <td>91366522</td>\n",
       "      <td>0.007650</td>\n",
       "    </tr>\n",
       "    <tr>\n",
       "      <th>2017-01-04</th>\n",
       "      <td>226.58</td>\n",
       "      <td>226.7500</td>\n",
       "      <td>225.6100</td>\n",
       "      <td>225.620</td>\n",
       "      <td>78744433</td>\n",
       "      <td>0.005949</td>\n",
       "    </tr>\n",
       "    <tr>\n",
       "      <th>2017-01-05</th>\n",
       "      <td>226.40</td>\n",
       "      <td>226.5800</td>\n",
       "      <td>225.4800</td>\n",
       "      <td>226.270</td>\n",
       "      <td>78379012</td>\n",
       "      <td>-0.000794</td>\n",
       "    </tr>\n",
       "    <tr>\n",
       "      <th>2017-01-06</th>\n",
       "      <td>227.21</td>\n",
       "      <td>227.7500</td>\n",
       "      <td>225.9000</td>\n",
       "      <td>226.530</td>\n",
       "      <td>71559922</td>\n",
       "      <td>0.003578</td>\n",
       "    </tr>\n",
       "    <tr>\n",
       "      <th>2017-01-09</th>\n",
       "      <td>226.46</td>\n",
       "      <td>227.0701</td>\n",
       "      <td>226.4163</td>\n",
       "      <td>226.910</td>\n",
       "      <td>46939676</td>\n",
       "      <td>-0.003301</td>\n",
       "    </tr>\n",
       "    <tr>\n",
       "      <th>2017-01-10</th>\n",
       "      <td>226.46</td>\n",
       "      <td>227.4500</td>\n",
       "      <td>226.0100</td>\n",
       "      <td>226.480</td>\n",
       "      <td>63771939</td>\n",
       "      <td>0.000000</td>\n",
       "    </tr>\n",
       "    <tr>\n",
       "      <th>2017-01-11</th>\n",
       "      <td>227.10</td>\n",
       "      <td>227.1000</td>\n",
       "      <td>225.5900</td>\n",
       "      <td>226.360</td>\n",
       "      <td>74650016</td>\n",
       "      <td>0.002826</td>\n",
       "    </tr>\n",
       "    <tr>\n",
       "      <th>2017-01-12</th>\n",
       "      <td>226.53</td>\n",
       "      <td>226.7500</td>\n",
       "      <td>224.9550</td>\n",
       "      <td>226.500</td>\n",
       "      <td>72113181</td>\n",
       "      <td>-0.002510</td>\n",
       "    </tr>\n",
       "    <tr>\n",
       "      <th>2017-01-13</th>\n",
       "      <td>227.05</td>\n",
       "      <td>227.4000</td>\n",
       "      <td>226.6900</td>\n",
       "      <td>226.730</td>\n",
       "      <td>62717865</td>\n",
       "      <td>0.002296</td>\n",
       "    </tr>\n",
       "    <tr>\n",
       "      <th>2017-01-16</th>\n",
       "      <td>227.05</td>\n",
       "      <td>227.4000</td>\n",
       "      <td>226.6900</td>\n",
       "      <td>226.730</td>\n",
       "      <td>0</td>\n",
       "      <td>0.000000</td>\n",
       "    </tr>\n",
       "    <tr>\n",
       "      <th>2017-01-17</th>\n",
       "      <td>226.25</td>\n",
       "      <td>226.7800</td>\n",
       "      <td>225.8000</td>\n",
       "      <td>226.310</td>\n",
       "      <td>61240814</td>\n",
       "      <td>-0.003523</td>\n",
       "    </tr>\n",
       "    <tr>\n",
       "      <th>2017-01-18</th>\n",
       "      <td>226.75</td>\n",
       "      <td>226.8000</td>\n",
       "      <td>225.9000</td>\n",
       "      <td>226.535</td>\n",
       "      <td>54793302</td>\n",
       "      <td>0.002210</td>\n",
       "    </tr>\n",
       "    <tr>\n",
       "      <th>2017-01-19</th>\n",
       "      <td>225.91</td>\n",
       "      <td>227.0000</td>\n",
       "      <td>225.4100</td>\n",
       "      <td>226.840</td>\n",
       "      <td>66608787</td>\n",
       "      <td>-0.003705</td>\n",
       "    </tr>\n",
       "    <tr>\n",
       "      <th>2017-01-20</th>\n",
       "      <td>226.74</td>\n",
       "      <td>227.3100</td>\n",
       "      <td>225.9719</td>\n",
       "      <td>226.700</td>\n",
       "      <td>129168623</td>\n",
       "      <td>0.003674</td>\n",
       "    </tr>\n",
       "    <tr>\n",
       "      <th>2017-01-23</th>\n",
       "      <td>226.15</td>\n",
       "      <td>226.8050</td>\n",
       "      <td>225.2700</td>\n",
       "      <td>226.350</td>\n",
       "      <td>75061645</td>\n",
       "      <td>-0.002602</td>\n",
       "    </tr>\n",
       "    <tr>\n",
       "      <th>2017-01-24</th>\n",
       "      <td>227.60</td>\n",
       "      <td>228.0800</td>\n",
       "      <td>226.2700</td>\n",
       "      <td>226.400</td>\n",
       "      <td>95555295</td>\n",
       "      <td>0.006412</td>\n",
       "    </tr>\n",
       "    <tr>\n",
       "      <th>2017-01-25</th>\n",
       "      <td>229.57</td>\n",
       "      <td>229.5700</td>\n",
       "      <td>228.5100</td>\n",
       "      <td>228.700</td>\n",
       "      <td>84437712</td>\n",
       "      <td>0.008656</td>\n",
       "    </tr>\n",
       "    <tr>\n",
       "      <th>2017-01-26</th>\n",
       "      <td>229.33</td>\n",
       "      <td>229.7100</td>\n",
       "      <td>229.0100</td>\n",
       "      <td>229.400</td>\n",
       "      <td>59970719</td>\n",
       "      <td>-0.001045</td>\n",
       "    </tr>\n",
       "    <tr>\n",
       "      <th>2017-01-27</th>\n",
       "      <td>228.97</td>\n",
       "      <td>229.5900</td>\n",
       "      <td>228.7600</td>\n",
       "      <td>229.420</td>\n",
       "      <td>59711118</td>\n",
       "      <td>-0.001570</td>\n",
       "    </tr>\n",
       "    <tr>\n",
       "      <th>2017-01-30</th>\n",
       "      <td>227.55</td>\n",
       "      <td>228.2000</td>\n",
       "      <td>226.4100</td>\n",
       "      <td>228.170</td>\n",
       "      <td>79737252</td>\n",
       "      <td>-0.006202</td>\n",
       "    </tr>\n",
       "    <tr>\n",
       "      <th>2017-01-31</th>\n",
       "      <td>227.53</td>\n",
       "      <td>227.6000</td>\n",
       "      <td>226.3200</td>\n",
       "      <td>226.980</td>\n",
       "      <td>75880805</td>\n",
       "      <td>-0.000088</td>\n",
       "    </tr>\n",
       "    <tr>\n",
       "      <th>2017-02-01</th>\n",
       "      <td>227.62</td>\n",
       "      <td>228.5900</td>\n",
       "      <td>226.9400</td>\n",
       "      <td>228.255</td>\n",
       "      <td>79117651</td>\n",
       "      <td>0.000396</td>\n",
       "    </tr>\n",
       "    <tr>\n",
       "      <th>2017-02-02</th>\n",
       "      <td>227.77</td>\n",
       "      <td>228.1000</td>\n",
       "      <td>226.8200</td>\n",
       "      <td>227.200</td>\n",
       "      <td>69657560</td>\n",
       "      <td>0.000659</td>\n",
       "    </tr>\n",
       "    <tr>\n",
       "      <th>2017-02-03</th>\n",
       "      <td>229.34</td>\n",
       "      <td>229.5500</td>\n",
       "      <td>228.4600</td>\n",
       "      <td>228.820</td>\n",
       "      <td>80563168</td>\n",
       "      <td>0.006893</td>\n",
       "    </tr>\n",
       "    <tr>\n",
       "      <th>2017-02-06</th>\n",
       "      <td>228.93</td>\n",
       "      <td>229.3260</td>\n",
       "      <td>228.5400</td>\n",
       "      <td>228.870</td>\n",
       "      <td>57790108</td>\n",
       "      <td>-0.001788</td>\n",
       "    </tr>\n",
       "    <tr>\n",
       "      <th>2017-02-07</th>\n",
       "      <td>228.94</td>\n",
       "      <td>229.6556</td>\n",
       "      <td>228.7200</td>\n",
       "      <td>229.380</td>\n",
       "      <td>57931151</td>\n",
       "      <td>0.000044</td>\n",
       "    </tr>\n",
       "    <tr>\n",
       "      <th>2017-02-08</th>\n",
       "      <td>229.24</td>\n",
       "      <td>229.3900</td>\n",
       "      <td>228.3100</td>\n",
       "      <td>228.610</td>\n",
       "      <td>51566218</td>\n",
       "      <td>0.001310</td>\n",
       "    </tr>\n",
       "    <tr>\n",
       "      <th>2017-02-09</th>\n",
       "      <td>230.60</td>\n",
       "      <td>230.9500</td>\n",
       "      <td>229.5200</td>\n",
       "      <td>229.560</td>\n",
       "      <td>65955245</td>\n",
       "      <td>0.005933</td>\n",
       "    </tr>\n",
       "    <tr>\n",
       "      <th>2017-02-10</th>\n",
       "      <td>231.51</td>\n",
       "      <td>231.7700</td>\n",
       "      <td>230.6216</td>\n",
       "      <td>231.000</td>\n",
       "      <td>66015891</td>\n",
       "      <td>0.003946</td>\n",
       "    </tr>\n",
       "    <tr>\n",
       "      <th>...</th>\n",
       "      <th>...</th>\n",
       "      <td>...</td>\n",
       "      <td>...</td>\n",
       "      <td>...</td>\n",
       "      <td>...</td>\n",
       "      <td>...</td>\n",
       "      <td>...</td>\n",
       "    </tr>\n",
       "    <tr>\n",
       "      <th rowspan=\"30\" valign=\"top\">XOM</th>\n",
       "      <th>2017-11-21</th>\n",
       "      <td>80.87</td>\n",
       "      <td>81.2500</td>\n",
       "      <td>80.6400</td>\n",
       "      <td>80.690</td>\n",
       "      <td>8838367</td>\n",
       "      <td>0.003973</td>\n",
       "    </tr>\n",
       "    <tr>\n",
       "      <th>2017-11-22</th>\n",
       "      <td>81.10</td>\n",
       "      <td>81.4051</td>\n",
       "      <td>81.0500</td>\n",
       "      <td>81.160</td>\n",
       "      <td>7941632</td>\n",
       "      <td>0.002844</td>\n",
       "    </tr>\n",
       "    <tr>\n",
       "      <th>2017-11-23</th>\n",
       "      <td>81.10</td>\n",
       "      <td>81.1000</td>\n",
       "      <td>81.1000</td>\n",
       "      <td>81.100</td>\n",
       "      <td>0</td>\n",
       "      <td>0.000000</td>\n",
       "    </tr>\n",
       "    <tr>\n",
       "      <th>2017-11-24</th>\n",
       "      <td>81.42</td>\n",
       "      <td>81.7000</td>\n",
       "      <td>81.2200</td>\n",
       "      <td>81.440</td>\n",
       "      <td>3851283</td>\n",
       "      <td>0.003946</td>\n",
       "    </tr>\n",
       "    <tr>\n",
       "      <th>2017-11-27</th>\n",
       "      <td>81.11</td>\n",
       "      <td>81.4000</td>\n",
       "      <td>81.0200</td>\n",
       "      <td>81.320</td>\n",
       "      <td>9127527</td>\n",
       "      <td>-0.003807</td>\n",
       "    </tr>\n",
       "    <tr>\n",
       "      <th>2017-11-28</th>\n",
       "      <td>81.67</td>\n",
       "      <td>81.9990</td>\n",
       "      <td>81.3100</td>\n",
       "      <td>81.410</td>\n",
       "      <td>9794574</td>\n",
       "      <td>0.006904</td>\n",
       "    </tr>\n",
       "    <tr>\n",
       "      <th>2017-11-29</th>\n",
       "      <td>82.27</td>\n",
       "      <td>82.3100</td>\n",
       "      <td>81.4800</td>\n",
       "      <td>81.650</td>\n",
       "      <td>9724992</td>\n",
       "      <td>0.007347</td>\n",
       "    </tr>\n",
       "    <tr>\n",
       "      <th>2017-11-30</th>\n",
       "      <td>83.29</td>\n",
       "      <td>83.4000</td>\n",
       "      <td>82.4100</td>\n",
       "      <td>82.450</td>\n",
       "      <td>18592679</td>\n",
       "      <td>0.012398</td>\n",
       "    </tr>\n",
       "    <tr>\n",
       "      <th>2017-12-01</th>\n",
       "      <td>83.46</td>\n",
       "      <td>84.1300</td>\n",
       "      <td>82.4100</td>\n",
       "      <td>83.440</td>\n",
       "      <td>13779254</td>\n",
       "      <td>0.002041</td>\n",
       "    </tr>\n",
       "    <tr>\n",
       "      <th>2017-12-04</th>\n",
       "      <td>83.57</td>\n",
       "      <td>84.1750</td>\n",
       "      <td>83.0000</td>\n",
       "      <td>83.210</td>\n",
       "      <td>12597705</td>\n",
       "      <td>0.001318</td>\n",
       "    </tr>\n",
       "    <tr>\n",
       "      <th>2017-12-05</th>\n",
       "      <td>82.89</td>\n",
       "      <td>83.7700</td>\n",
       "      <td>82.7100</td>\n",
       "      <td>83.500</td>\n",
       "      <td>9357185</td>\n",
       "      <td>-0.008137</td>\n",
       "    </tr>\n",
       "    <tr>\n",
       "      <th>2017-12-06</th>\n",
       "      <td>82.28</td>\n",
       "      <td>83.2000</td>\n",
       "      <td>82.2100</td>\n",
       "      <td>83.080</td>\n",
       "      <td>13398866</td>\n",
       "      <td>-0.007359</td>\n",
       "    </tr>\n",
       "    <tr>\n",
       "      <th>2017-12-07</th>\n",
       "      <td>82.55</td>\n",
       "      <td>82.6200</td>\n",
       "      <td>82.1700</td>\n",
       "      <td>82.400</td>\n",
       "      <td>11359598</td>\n",
       "      <td>0.003281</td>\n",
       "    </tr>\n",
       "    <tr>\n",
       "      <th>2017-12-08</th>\n",
       "      <td>82.66</td>\n",
       "      <td>82.9000</td>\n",
       "      <td>82.2600</td>\n",
       "      <td>82.750</td>\n",
       "      <td>11988633</td>\n",
       "      <td>0.001333</td>\n",
       "    </tr>\n",
       "    <tr>\n",
       "      <th>2017-12-11</th>\n",
       "      <td>83.03</td>\n",
       "      <td>83.2500</td>\n",
       "      <td>82.7400</td>\n",
       "      <td>82.950</td>\n",
       "      <td>8760735</td>\n",
       "      <td>0.004476</td>\n",
       "    </tr>\n",
       "    <tr>\n",
       "      <th>2017-12-12</th>\n",
       "      <td>82.76</td>\n",
       "      <td>83.3800</td>\n",
       "      <td>82.7000</td>\n",
       "      <td>83.090</td>\n",
       "      <td>11307030</td>\n",
       "      <td>-0.003252</td>\n",
       "    </tr>\n",
       "    <tr>\n",
       "      <th>2017-12-13</th>\n",
       "      <td>83.12</td>\n",
       "      <td>83.3000</td>\n",
       "      <td>82.4800</td>\n",
       "      <td>82.610</td>\n",
       "      <td>10172650</td>\n",
       "      <td>0.004350</td>\n",
       "    </tr>\n",
       "    <tr>\n",
       "      <th>2017-12-14</th>\n",
       "      <td>82.90</td>\n",
       "      <td>83.3300</td>\n",
       "      <td>82.8900</td>\n",
       "      <td>83.030</td>\n",
       "      <td>9492394</td>\n",
       "      <td>-0.002647</td>\n",
       "    </tr>\n",
       "    <tr>\n",
       "      <th>2017-12-15</th>\n",
       "      <td>83.03</td>\n",
       "      <td>83.2800</td>\n",
       "      <td>82.8700</td>\n",
       "      <td>83.160</td>\n",
       "      <td>26582332</td>\n",
       "      <td>0.001568</td>\n",
       "    </tr>\n",
       "    <tr>\n",
       "      <th>2017-12-18</th>\n",
       "      <td>82.94</td>\n",
       "      <td>83.6744</td>\n",
       "      <td>82.9100</td>\n",
       "      <td>83.180</td>\n",
       "      <td>9363466</td>\n",
       "      <td>-0.001084</td>\n",
       "    </tr>\n",
       "    <tr>\n",
       "      <th>2017-12-19</th>\n",
       "      <td>82.44</td>\n",
       "      <td>83.1700</td>\n",
       "      <td>82.3300</td>\n",
       "      <td>83.030</td>\n",
       "      <td>10285052</td>\n",
       "      <td>-0.006028</td>\n",
       "    </tr>\n",
       "    <tr>\n",
       "      <th>2017-12-20</th>\n",
       "      <td>82.87</td>\n",
       "      <td>83.1400</td>\n",
       "      <td>82.5201</td>\n",
       "      <td>82.600</td>\n",
       "      <td>10620305</td>\n",
       "      <td>0.005216</td>\n",
       "    </tr>\n",
       "    <tr>\n",
       "      <th>2017-12-21</th>\n",
       "      <td>83.85</td>\n",
       "      <td>84.2700</td>\n",
       "      <td>82.9600</td>\n",
       "      <td>83.350</td>\n",
       "      <td>13578133</td>\n",
       "      <td>0.011826</td>\n",
       "    </tr>\n",
       "    <tr>\n",
       "      <th>2017-12-22</th>\n",
       "      <td>83.97</td>\n",
       "      <td>84.0200</td>\n",
       "      <td>83.6000</td>\n",
       "      <td>83.880</td>\n",
       "      <td>10161447</td>\n",
       "      <td>0.001431</td>\n",
       "    </tr>\n",
       "    <tr>\n",
       "      <th>2017-12-25</th>\n",
       "      <td>83.97</td>\n",
       "      <td>83.9700</td>\n",
       "      <td>83.9700</td>\n",
       "      <td>83.970</td>\n",
       "      <td>0</td>\n",
       "      <td>0.000000</td>\n",
       "    </tr>\n",
       "    <tr>\n",
       "      <th>2017-12-26</th>\n",
       "      <td>83.98</td>\n",
       "      <td>84.3600</td>\n",
       "      <td>83.9000</td>\n",
       "      <td>83.960</td>\n",
       "      <td>4777216</td>\n",
       "      <td>0.000119</td>\n",
       "    </tr>\n",
       "    <tr>\n",
       "      <th>2017-12-27</th>\n",
       "      <td>83.90</td>\n",
       "      <td>84.1000</td>\n",
       "      <td>83.7400</td>\n",
       "      <td>83.990</td>\n",
       "      <td>7000612</td>\n",
       "      <td>-0.000953</td>\n",
       "    </tr>\n",
       "    <tr>\n",
       "      <th>2017-12-28</th>\n",
       "      <td>84.02</td>\n",
       "      <td>84.0500</td>\n",
       "      <td>83.8000</td>\n",
       "      <td>83.980</td>\n",
       "      <td>7495254</td>\n",
       "      <td>0.001430</td>\n",
       "    </tr>\n",
       "    <tr>\n",
       "      <th>2017-12-29</th>\n",
       "      <td>83.64</td>\n",
       "      <td>84.2000</td>\n",
       "      <td>83.6400</td>\n",
       "      <td>84.000</td>\n",
       "      <td>8523411</td>\n",
       "      <td>-0.004523</td>\n",
       "    </tr>\n",
       "    <tr>\n",
       "      <th>2018-01-01</th>\n",
       "      <td>83.64</td>\n",
       "      <td>83.6400</td>\n",
       "      <td>83.6400</td>\n",
       "      <td>83.640</td>\n",
       "      <td>0</td>\n",
       "      <td>0.000000</td>\n",
       "    </tr>\n",
       "  </tbody>\n",
       "</table>\n",
       "<p>1044 rows × 6 columns</p>\n",
       "</div>"
      ],
      "text/plain": [
       "                    Close      High       Low     Open     Volume   returns\n",
       "Symbol Date                                                                \n",
       "SPY    2017-01-02  223.53  224.8300  222.7300  224.730          0       NaN\n",
       "       2017-01-03  225.24  225.8300  223.8837  225.040   91366522  0.007650\n",
       "       2017-01-04  226.58  226.7500  225.6100  225.620   78744433  0.005949\n",
       "       2017-01-05  226.40  226.5800  225.4800  226.270   78379012 -0.000794\n",
       "       2017-01-06  227.21  227.7500  225.9000  226.530   71559922  0.003578\n",
       "       2017-01-09  226.46  227.0701  226.4163  226.910   46939676 -0.003301\n",
       "       2017-01-10  226.46  227.4500  226.0100  226.480   63771939  0.000000\n",
       "       2017-01-11  227.10  227.1000  225.5900  226.360   74650016  0.002826\n",
       "       2017-01-12  226.53  226.7500  224.9550  226.500   72113181 -0.002510\n",
       "       2017-01-13  227.05  227.4000  226.6900  226.730   62717865  0.002296\n",
       "       2017-01-16  227.05  227.4000  226.6900  226.730          0  0.000000\n",
       "       2017-01-17  226.25  226.7800  225.8000  226.310   61240814 -0.003523\n",
       "       2017-01-18  226.75  226.8000  225.9000  226.535   54793302  0.002210\n",
       "       2017-01-19  225.91  227.0000  225.4100  226.840   66608787 -0.003705\n",
       "       2017-01-20  226.74  227.3100  225.9719  226.700  129168623  0.003674\n",
       "       2017-01-23  226.15  226.8050  225.2700  226.350   75061645 -0.002602\n",
       "       2017-01-24  227.60  228.0800  226.2700  226.400   95555295  0.006412\n",
       "       2017-01-25  229.57  229.5700  228.5100  228.700   84437712  0.008656\n",
       "       2017-01-26  229.33  229.7100  229.0100  229.400   59970719 -0.001045\n",
       "       2017-01-27  228.97  229.5900  228.7600  229.420   59711118 -0.001570\n",
       "       2017-01-30  227.55  228.2000  226.4100  228.170   79737252 -0.006202\n",
       "       2017-01-31  227.53  227.6000  226.3200  226.980   75880805 -0.000088\n",
       "       2017-02-01  227.62  228.5900  226.9400  228.255   79117651  0.000396\n",
       "       2017-02-02  227.77  228.1000  226.8200  227.200   69657560  0.000659\n",
       "       2017-02-03  229.34  229.5500  228.4600  228.820   80563168  0.006893\n",
       "       2017-02-06  228.93  229.3260  228.5400  228.870   57790108 -0.001788\n",
       "       2017-02-07  228.94  229.6556  228.7200  229.380   57931151  0.000044\n",
       "       2017-02-08  229.24  229.3900  228.3100  228.610   51566218  0.001310\n",
       "       2017-02-09  230.60  230.9500  229.5200  229.560   65955245  0.005933\n",
       "       2017-02-10  231.51  231.7700  230.6216  231.000   66015891  0.003946\n",
       "...                   ...       ...       ...      ...        ...       ...\n",
       "XOM    2017-11-21   80.87   81.2500   80.6400   80.690    8838367  0.003973\n",
       "       2017-11-22   81.10   81.4051   81.0500   81.160    7941632  0.002844\n",
       "       2017-11-23   81.10   81.1000   81.1000   81.100          0  0.000000\n",
       "       2017-11-24   81.42   81.7000   81.2200   81.440    3851283  0.003946\n",
       "       2017-11-27   81.11   81.4000   81.0200   81.320    9127527 -0.003807\n",
       "       2017-11-28   81.67   81.9990   81.3100   81.410    9794574  0.006904\n",
       "       2017-11-29   82.27   82.3100   81.4800   81.650    9724992  0.007347\n",
       "       2017-11-30   83.29   83.4000   82.4100   82.450   18592679  0.012398\n",
       "       2017-12-01   83.46   84.1300   82.4100   83.440   13779254  0.002041\n",
       "       2017-12-04   83.57   84.1750   83.0000   83.210   12597705  0.001318\n",
       "       2017-12-05   82.89   83.7700   82.7100   83.500    9357185 -0.008137\n",
       "       2017-12-06   82.28   83.2000   82.2100   83.080   13398866 -0.007359\n",
       "       2017-12-07   82.55   82.6200   82.1700   82.400   11359598  0.003281\n",
       "       2017-12-08   82.66   82.9000   82.2600   82.750   11988633  0.001333\n",
       "       2017-12-11   83.03   83.2500   82.7400   82.950    8760735  0.004476\n",
       "       2017-12-12   82.76   83.3800   82.7000   83.090   11307030 -0.003252\n",
       "       2017-12-13   83.12   83.3000   82.4800   82.610   10172650  0.004350\n",
       "       2017-12-14   82.90   83.3300   82.8900   83.030    9492394 -0.002647\n",
       "       2017-12-15   83.03   83.2800   82.8700   83.160   26582332  0.001568\n",
       "       2017-12-18   82.94   83.6744   82.9100   83.180    9363466 -0.001084\n",
       "       2017-12-19   82.44   83.1700   82.3300   83.030   10285052 -0.006028\n",
       "       2017-12-20   82.87   83.1400   82.5201   82.600   10620305  0.005216\n",
       "       2017-12-21   83.85   84.2700   82.9600   83.350   13578133  0.011826\n",
       "       2017-12-22   83.97   84.0200   83.6000   83.880   10161447  0.001431\n",
       "       2017-12-25   83.97   83.9700   83.9700   83.970          0  0.000000\n",
       "       2017-12-26   83.98   84.3600   83.9000   83.960    4777216  0.000119\n",
       "       2017-12-27   83.90   84.1000   83.7400   83.990    7000612 -0.000953\n",
       "       2017-12-28   84.02   84.0500   83.8000   83.980    7495254  0.001430\n",
       "       2017-12-29   83.64   84.2000   83.6400   84.000    8523411 -0.004523\n",
       "       2018-01-01   83.64   83.6400   83.6400   83.640          0  0.000000\n",
       "\n",
       "[1044 rows x 6 columns]"
      ]
     },
     "execution_count": 57,
     "metadata": {},
     "output_type": "execute_result"
    }
   ],
   "source": [
    "prices"
   ]
  },
  {
   "cell_type": "code",
   "execution_count": 58,
   "metadata": {
    "scrolled": true
   },
   "outputs": [
    {
     "data": {
      "text/html": [
       "<div>\n",
       "<style scoped>\n",
       "    .dataframe tbody tr th:only-of-type {\n",
       "        vertical-align: middle;\n",
       "    }\n",
       "\n",
       "    .dataframe tbody tr th {\n",
       "        vertical-align: top;\n",
       "    }\n",
       "\n",
       "    .dataframe thead th {\n",
       "        text-align: right;\n",
       "    }\n",
       "</style>\n",
       "<table border=\"1\" class=\"dataframe\">\n",
       "  <thead>\n",
       "    <tr style=\"text-align: right;\">\n",
       "      <th>Symbol</th>\n",
       "      <th>IBM</th>\n",
       "      <th>MSFT</th>\n",
       "      <th>SPY</th>\n",
       "      <th>XOM</th>\n",
       "    </tr>\n",
       "    <tr>\n",
       "      <th>Date</th>\n",
       "      <th></th>\n",
       "      <th></th>\n",
       "      <th></th>\n",
       "      <th></th>\n",
       "    </tr>\n",
       "  </thead>\n",
       "  <tbody>\n",
       "    <tr>\n",
       "      <th>2017-01-03</th>\n",
       "      <td>0.007229</td>\n",
       "      <td>0.007081</td>\n",
       "      <td>0.007650</td>\n",
       "      <td>0.006980</td>\n",
       "    </tr>\n",
       "    <tr>\n",
       "      <th>2017-01-04</th>\n",
       "      <td>0.012381</td>\n",
       "      <td>-0.004474</td>\n",
       "      <td>0.005949</td>\n",
       "      <td>-0.011002</td>\n",
       "    </tr>\n",
       "    <tr>\n",
       "      <th>2017-01-05</th>\n",
       "      <td>-0.003309</td>\n",
       "      <td>0.000000</td>\n",
       "      <td>-0.000794</td>\n",
       "      <td>-0.014907</td>\n",
       "    </tr>\n",
       "    <tr>\n",
       "      <th>2017-01-06</th>\n",
       "      <td>0.004920</td>\n",
       "      <td>0.008668</td>\n",
       "      <td>0.003578</td>\n",
       "      <td>-0.000565</td>\n",
       "    </tr>\n",
       "    <tr>\n",
       "      <th>2017-01-09</th>\n",
       "      <td>-0.011089</td>\n",
       "      <td>-0.003183</td>\n",
       "      <td>-0.003301</td>\n",
       "      <td>-0.016497</td>\n",
       "    </tr>\n",
       "    <tr>\n",
       "      <th>2017-01-10</th>\n",
       "      <td>-0.012705</td>\n",
       "      <td>-0.000319</td>\n",
       "      <td>0.000000</td>\n",
       "      <td>-0.012753</td>\n",
       "    </tr>\n",
       "    <tr>\n",
       "      <th>2017-01-11</th>\n",
       "      <td>0.013473</td>\n",
       "      <td>0.009103</td>\n",
       "      <td>0.002826</td>\n",
       "      <td>0.010241</td>\n",
       "    </tr>\n",
       "    <tr>\n",
       "      <th>2017-01-12</th>\n",
       "      <td>0.001192</td>\n",
       "      <td>-0.009179</td>\n",
       "      <td>-0.002510</td>\n",
       "      <td>-0.005414</td>\n",
       "    </tr>\n",
       "    <tr>\n",
       "      <th>2017-01-13</th>\n",
       "      <td>-0.003632</td>\n",
       "      <td>0.001437</td>\n",
       "      <td>0.002296</td>\n",
       "      <td>0.000116</td>\n",
       "    </tr>\n",
       "    <tr>\n",
       "      <th>2017-01-16</th>\n",
       "      <td>0.000000</td>\n",
       "      <td>0.000000</td>\n",
       "      <td>0.000000</td>\n",
       "      <td>0.000000</td>\n",
       "    </tr>\n",
       "    <tr>\n",
       "      <th>2017-01-17</th>\n",
       "      <td>0.003287</td>\n",
       "      <td>-0.002711</td>\n",
       "      <td>-0.003523</td>\n",
       "      <td>0.011697</td>\n",
       "    </tr>\n",
       "    <tr>\n",
       "      <th>2017-01-18</th>\n",
       "      <td>-0.006492</td>\n",
       "      <td>-0.000480</td>\n",
       "      <td>0.002210</td>\n",
       "      <td>-0.012363</td>\n",
       "    </tr>\n",
       "    <tr>\n",
       "      <th>2017-01-19</th>\n",
       "      <td>0.000060</td>\n",
       "      <td>-0.003200</td>\n",
       "      <td>-0.003705</td>\n",
       "      <td>-0.017965</td>\n",
       "    </tr>\n",
       "    <tr>\n",
       "      <th>2017-01-20</th>\n",
       "      <td>0.022421</td>\n",
       "      <td>0.007063</td>\n",
       "      <td>0.003674</td>\n",
       "      <td>0.013691</td>\n",
       "    </tr>\n",
       "    <tr>\n",
       "      <th>2017-01-23</th>\n",
       "      <td>0.002814</td>\n",
       "      <td>0.003507</td>\n",
       "      <td>-0.002602</td>\n",
       "      <td>-0.010711</td>\n",
       "    </tr>\n",
       "    <tr>\n",
       "      <th>2017-01-24</th>\n",
       "      <td>0.028475</td>\n",
       "      <td>0.008895</td>\n",
       "      <td>0.006412</td>\n",
       "      <td>0.001412</td>\n",
       "    </tr>\n",
       "    <tr>\n",
       "      <th>2017-01-25</th>\n",
       "      <td>0.013587</td>\n",
       "      <td>0.002519</td>\n",
       "      <td>0.008656</td>\n",
       "      <td>0.002938</td>\n",
       "    </tr>\n",
       "    <tr>\n",
       "      <th>2017-01-26</th>\n",
       "      <td>0.002075</td>\n",
       "      <td>0.009265</td>\n",
       "      <td>-0.001045</td>\n",
       "      <td>0.003047</td>\n",
       "    </tr>\n",
       "    <tr>\n",
       "      <th>2017-01-27</th>\n",
       "      <td>-0.007612</td>\n",
       "      <td>0.023495</td>\n",
       "      <td>-0.001570</td>\n",
       "      <td>-0.001051</td>\n",
       "    </tr>\n",
       "    <tr>\n",
       "      <th>2017-01-30</th>\n",
       "      <td>-0.008460</td>\n",
       "      <td>-0.009881</td>\n",
       "      <td>-0.006202</td>\n",
       "      <td>-0.007601</td>\n",
       "    </tr>\n",
       "    <tr>\n",
       "      <th>2017-01-31</th>\n",
       "      <td>-0.007281</td>\n",
       "      <td>-0.007370</td>\n",
       "      <td>-0.000088</td>\n",
       "      <td>-0.011431</td>\n",
       "    </tr>\n",
       "    <tr>\n",
       "      <th>2017-02-01</th>\n",
       "      <td>-0.001318</td>\n",
       "      <td>-0.016551</td>\n",
       "      <td>0.000396</td>\n",
       "      <td>-0.011324</td>\n",
       "    </tr>\n",
       "    <tr>\n",
       "      <th>2017-02-02</th>\n",
       "      <td>0.001664</td>\n",
       "      <td>-0.006449</td>\n",
       "      <td>0.000659</td>\n",
       "      <td>0.006149</td>\n",
       "    </tr>\n",
       "    <tr>\n",
       "      <th>2017-02-03</th>\n",
       "      <td>0.007103</td>\n",
       "      <td>0.008073</td>\n",
       "      <td>0.006893</td>\n",
       "      <td>0.001078</td>\n",
       "    </tr>\n",
       "    <tr>\n",
       "      <th>2017-02-06</th>\n",
       "      <td>0.000228</td>\n",
       "      <td>-0.000628</td>\n",
       "      <td>-0.001788</td>\n",
       "      <td>-0.002753</td>\n",
       "    </tr>\n",
       "    <tr>\n",
       "      <th>2017-02-07</th>\n",
       "      <td>0.014784</td>\n",
       "      <td>-0.003300</td>\n",
       "      <td>0.000044</td>\n",
       "      <td>-0.006482</td>\n",
       "    </tr>\n",
       "    <tr>\n",
       "      <th>2017-02-08</th>\n",
       "      <td>-0.012832</td>\n",
       "      <td>-0.001419</td>\n",
       "      <td>0.001310</td>\n",
       "      <td>-0.015585</td>\n",
       "    </tr>\n",
       "    <tr>\n",
       "      <th>2017-02-09</th>\n",
       "      <td>0.005903</td>\n",
       "      <td>0.011367</td>\n",
       "      <td>0.005933</td>\n",
       "      <td>0.004418</td>\n",
       "    </tr>\n",
       "    <tr>\n",
       "      <th>2017-02-10</th>\n",
       "      <td>0.008295</td>\n",
       "      <td>-0.000937</td>\n",
       "      <td>0.003946</td>\n",
       "      <td>0.008309</td>\n",
       "    </tr>\n",
       "    <tr>\n",
       "      <th>2017-02-13</th>\n",
       "      <td>0.003806</td>\n",
       "      <td>0.011250</td>\n",
       "      <td>0.005443</td>\n",
       "      <td>0.005817</td>\n",
       "    </tr>\n",
       "    <tr>\n",
       "      <th>...</th>\n",
       "      <td>...</td>\n",
       "      <td>...</td>\n",
       "      <td>...</td>\n",
       "      <td>...</td>\n",
       "    </tr>\n",
       "    <tr>\n",
       "      <th>2017-11-21</th>\n",
       "      <td>0.009567</td>\n",
       "      <td>0.014419</td>\n",
       "      <td>0.006543</td>\n",
       "      <td>0.003973</td>\n",
       "    </tr>\n",
       "    <tr>\n",
       "      <th>2017-11-22</th>\n",
       "      <td>-0.001185</td>\n",
       "      <td>-0.007286</td>\n",
       "      <td>-0.000885</td>\n",
       "      <td>0.002844</td>\n",
       "    </tr>\n",
       "    <tr>\n",
       "      <th>2017-11-23</th>\n",
       "      <td>0.000000</td>\n",
       "      <td>0.000000</td>\n",
       "      <td>0.000000</td>\n",
       "      <td>0.000000</td>\n",
       "    </tr>\n",
       "    <tr>\n",
       "      <th>2017-11-24</th>\n",
       "      <td>0.000461</td>\n",
       "      <td>0.001805</td>\n",
       "      <td>0.002310</td>\n",
       "      <td>0.003946</td>\n",
       "    </tr>\n",
       "    <tr>\n",
       "      <th>2017-11-27</th>\n",
       "      <td>0.000922</td>\n",
       "      <td>0.007326</td>\n",
       "      <td>-0.000499</td>\n",
       "      <td>-0.003807</td>\n",
       "    </tr>\n",
       "    <tr>\n",
       "      <th>2017-11-28</th>\n",
       "      <td>0.003224</td>\n",
       "      <td>0.012042</td>\n",
       "      <td>0.010145</td>\n",
       "      <td>0.006904</td>\n",
       "    </tr>\n",
       "    <tr>\n",
       "      <th>2017-11-29</th>\n",
       "      <td>0.007083</td>\n",
       "      <td>-0.018143</td>\n",
       "      <td>-0.000609</td>\n",
       "      <td>0.007347</td>\n",
       "    </tr>\n",
       "    <tr>\n",
       "      <th>2017-11-30</th>\n",
       "      <td>0.002735</td>\n",
       "      <td>0.009959</td>\n",
       "      <td>0.008755</td>\n",
       "      <td>0.012398</td>\n",
       "    </tr>\n",
       "    <tr>\n",
       "      <th>2017-12-01</th>\n",
       "      <td>0.005131</td>\n",
       "      <td>0.001069</td>\n",
       "      <td>-0.002075</td>\n",
       "      <td>0.002041</td>\n",
       "    </tr>\n",
       "    <tr>\n",
       "      <th>2017-12-04</th>\n",
       "      <td>0.010985</td>\n",
       "      <td>-0.037740</td>\n",
       "      <td>-0.001210</td>\n",
       "      <td>0.001318</td>\n",
       "    </tr>\n",
       "    <tr>\n",
       "      <th>2017-12-05</th>\n",
       "      <td>-0.007094</td>\n",
       "      <td>0.006290</td>\n",
       "      <td>-0.003597</td>\n",
       "      <td>-0.008137</td>\n",
       "    </tr>\n",
       "    <tr>\n",
       "      <th>2017-12-06</th>\n",
       "      <td>-0.008046</td>\n",
       "      <td>0.014585</td>\n",
       "      <td>0.000190</td>\n",
       "      <td>-0.007359</td>\n",
       "    </tr>\n",
       "    <tr>\n",
       "      <th>2017-12-07</th>\n",
       "      <td>-0.003439</td>\n",
       "      <td>-0.003503</td>\n",
       "      <td>0.003153</td>\n",
       "      <td>0.003281</td>\n",
       "    </tr>\n",
       "    <tr>\n",
       "      <th>2017-12-08</th>\n",
       "      <td>0.008074</td>\n",
       "      <td>0.020245</td>\n",
       "      <td>0.005453</td>\n",
       "      <td>0.001333</td>\n",
       "    </tr>\n",
       "    <tr>\n",
       "      <th>2017-12-11</th>\n",
       "      <td>0.003876</td>\n",
       "      <td>0.012714</td>\n",
       "      <td>0.003013</td>\n",
       "      <td>0.004476</td>\n",
       "    </tr>\n",
       "    <tr>\n",
       "      <th>2017-12-12</th>\n",
       "      <td>0.008558</td>\n",
       "      <td>0.004107</td>\n",
       "      <td>0.001765</td>\n",
       "      <td>-0.003252</td>\n",
       "    </tr>\n",
       "    <tr>\n",
       "      <th>2017-12-13</th>\n",
       "      <td>-0.018055</td>\n",
       "      <td>-0.002688</td>\n",
       "      <td>-0.000112</td>\n",
       "      <td>0.004350</td>\n",
       "    </tr>\n",
       "    <tr>\n",
       "      <th>2017-12-14</th>\n",
       "      <td>0.000585</td>\n",
       "      <td>-0.007733</td>\n",
       "      <td>-0.004086</td>\n",
       "      <td>-0.002647</td>\n",
       "    </tr>\n",
       "    <tr>\n",
       "      <th>2017-12-15</th>\n",
       "      <td>-0.009740</td>\n",
       "      <td>0.025505</td>\n",
       "      <td>0.003200</td>\n",
       "      <td>0.001568</td>\n",
       "    </tr>\n",
       "    <tr>\n",
       "      <th>2017-12-18</th>\n",
       "      <td>0.005443</td>\n",
       "      <td>-0.005412</td>\n",
       "      <td>0.006341</td>\n",
       "      <td>-0.001084</td>\n",
       "    </tr>\n",
       "    <tr>\n",
       "      <th>2017-12-19</th>\n",
       "      <td>-0.000652</td>\n",
       "      <td>-0.006367</td>\n",
       "      <td>-0.003840</td>\n",
       "      <td>-0.006028</td>\n",
       "    </tr>\n",
       "    <tr>\n",
       "      <th>2017-12-20</th>\n",
       "      <td>-0.001827</td>\n",
       "      <td>-0.003612</td>\n",
       "      <td>-0.000524</td>\n",
       "      <td>0.005216</td>\n",
       "    </tr>\n",
       "    <tr>\n",
       "      <th>2017-12-21</th>\n",
       "      <td>-0.009480</td>\n",
       "      <td>-0.000234</td>\n",
       "      <td>0.002060</td>\n",
       "      <td>0.011826</td>\n",
       "    </tr>\n",
       "    <tr>\n",
       "      <th>2017-12-22</th>\n",
       "      <td>0.006601</td>\n",
       "      <td>0.000117</td>\n",
       "      <td>-0.000262</td>\n",
       "      <td>0.001431</td>\n",
       "    </tr>\n",
       "    <tr>\n",
       "      <th>2017-12-25</th>\n",
       "      <td>0.000000</td>\n",
       "      <td>0.000000</td>\n",
       "      <td>0.000000</td>\n",
       "      <td>0.000000</td>\n",
       "    </tr>\n",
       "    <tr>\n",
       "      <th>2017-12-26</th>\n",
       "      <td>0.002164</td>\n",
       "      <td>-0.001286</td>\n",
       "      <td>-0.001196</td>\n",
       "      <td>0.000119</td>\n",
       "    </tr>\n",
       "    <tr>\n",
       "      <th>2017-12-27</th>\n",
       "      <td>0.001963</td>\n",
       "      <td>0.003630</td>\n",
       "      <td>0.000487</td>\n",
       "      <td>-0.000953</td>\n",
       "    </tr>\n",
       "    <tr>\n",
       "      <th>2017-12-28</th>\n",
       "      <td>0.005943</td>\n",
       "      <td>0.000117</td>\n",
       "      <td>0.002057</td>\n",
       "      <td>0.001430</td>\n",
       "    </tr>\n",
       "    <tr>\n",
       "      <th>2017-12-29</th>\n",
       "      <td>-0.004025</td>\n",
       "      <td>-0.002100</td>\n",
       "      <td>-0.003770</td>\n",
       "      <td>-0.004523</td>\n",
       "    </tr>\n",
       "    <tr>\n",
       "      <th>2018-01-01</th>\n",
       "      <td>0.000000</td>\n",
       "      <td>0.000000</td>\n",
       "      <td>0.000000</td>\n",
       "      <td>0.000000</td>\n",
       "    </tr>\n",
       "  </tbody>\n",
       "</table>\n",
       "<p>260 rows × 4 columns</p>\n",
       "</div>"
      ],
      "text/plain": [
       "Symbol           IBM      MSFT       SPY       XOM\n",
       "Date                                              \n",
       "2017-01-03  0.007229  0.007081  0.007650  0.006980\n",
       "2017-01-04  0.012381 -0.004474  0.005949 -0.011002\n",
       "2017-01-05 -0.003309  0.000000 -0.000794 -0.014907\n",
       "2017-01-06  0.004920  0.008668  0.003578 -0.000565\n",
       "2017-01-09 -0.011089 -0.003183 -0.003301 -0.016497\n",
       "2017-01-10 -0.012705 -0.000319  0.000000 -0.012753\n",
       "2017-01-11  0.013473  0.009103  0.002826  0.010241\n",
       "2017-01-12  0.001192 -0.009179 -0.002510 -0.005414\n",
       "2017-01-13 -0.003632  0.001437  0.002296  0.000116\n",
       "2017-01-16  0.000000  0.000000  0.000000  0.000000\n",
       "2017-01-17  0.003287 -0.002711 -0.003523  0.011697\n",
       "2017-01-18 -0.006492 -0.000480  0.002210 -0.012363\n",
       "2017-01-19  0.000060 -0.003200 -0.003705 -0.017965\n",
       "2017-01-20  0.022421  0.007063  0.003674  0.013691\n",
       "2017-01-23  0.002814  0.003507 -0.002602 -0.010711\n",
       "2017-01-24  0.028475  0.008895  0.006412  0.001412\n",
       "2017-01-25  0.013587  0.002519  0.008656  0.002938\n",
       "2017-01-26  0.002075  0.009265 -0.001045  0.003047\n",
       "2017-01-27 -0.007612  0.023495 -0.001570 -0.001051\n",
       "2017-01-30 -0.008460 -0.009881 -0.006202 -0.007601\n",
       "2017-01-31 -0.007281 -0.007370 -0.000088 -0.011431\n",
       "2017-02-01 -0.001318 -0.016551  0.000396 -0.011324\n",
       "2017-02-02  0.001664 -0.006449  0.000659  0.006149\n",
       "2017-02-03  0.007103  0.008073  0.006893  0.001078\n",
       "2017-02-06  0.000228 -0.000628 -0.001788 -0.002753\n",
       "2017-02-07  0.014784 -0.003300  0.000044 -0.006482\n",
       "2017-02-08 -0.012832 -0.001419  0.001310 -0.015585\n",
       "2017-02-09  0.005903  0.011367  0.005933  0.004418\n",
       "2017-02-10  0.008295 -0.000937  0.003946  0.008309\n",
       "2017-02-13  0.003806  0.011250  0.005443  0.005817\n",
       "...              ...       ...       ...       ...\n",
       "2017-11-21  0.009567  0.014419  0.006543  0.003973\n",
       "2017-11-22 -0.001185 -0.007286 -0.000885  0.002844\n",
       "2017-11-23  0.000000  0.000000  0.000000  0.000000\n",
       "2017-11-24  0.000461  0.001805  0.002310  0.003946\n",
       "2017-11-27  0.000922  0.007326 -0.000499 -0.003807\n",
       "2017-11-28  0.003224  0.012042  0.010145  0.006904\n",
       "2017-11-29  0.007083 -0.018143 -0.000609  0.007347\n",
       "2017-11-30  0.002735  0.009959  0.008755  0.012398\n",
       "2017-12-01  0.005131  0.001069 -0.002075  0.002041\n",
       "2017-12-04  0.010985 -0.037740 -0.001210  0.001318\n",
       "2017-12-05 -0.007094  0.006290 -0.003597 -0.008137\n",
       "2017-12-06 -0.008046  0.014585  0.000190 -0.007359\n",
       "2017-12-07 -0.003439 -0.003503  0.003153  0.003281\n",
       "2017-12-08  0.008074  0.020245  0.005453  0.001333\n",
       "2017-12-11  0.003876  0.012714  0.003013  0.004476\n",
       "2017-12-12  0.008558  0.004107  0.001765 -0.003252\n",
       "2017-12-13 -0.018055 -0.002688 -0.000112  0.004350\n",
       "2017-12-14  0.000585 -0.007733 -0.004086 -0.002647\n",
       "2017-12-15 -0.009740  0.025505  0.003200  0.001568\n",
       "2017-12-18  0.005443 -0.005412  0.006341 -0.001084\n",
       "2017-12-19 -0.000652 -0.006367 -0.003840 -0.006028\n",
       "2017-12-20 -0.001827 -0.003612 -0.000524  0.005216\n",
       "2017-12-21 -0.009480 -0.000234  0.002060  0.011826\n",
       "2017-12-22  0.006601  0.000117 -0.000262  0.001431\n",
       "2017-12-25  0.000000  0.000000  0.000000  0.000000\n",
       "2017-12-26  0.002164 -0.001286 -0.001196  0.000119\n",
       "2017-12-27  0.001963  0.003630  0.000487 -0.000953\n",
       "2017-12-28  0.005943  0.000117  0.002057  0.001430\n",
       "2017-12-29 -0.004025 -0.002100 -0.003770 -0.004523\n",
       "2018-01-01  0.000000  0.000000  0.000000  0.000000\n",
       "\n",
       "[260 rows x 4 columns]"
      ]
     },
     "execution_count": 58,
     "metadata": {},
     "output_type": "execute_result"
    }
   ],
   "source": [
    "returns = prices[\"returns\"].unstack(level=-1).T.dropna()\n",
    "returns"
   ]
  },
  {
   "cell_type": "code",
   "execution_count": 63,
   "metadata": {},
   "outputs": [],
   "source": [
    "prices.unstack?"
   ]
  },
  {
   "cell_type": "code",
   "execution_count": 60,
   "metadata": {},
   "outputs": [
    {
     "data": {
      "image/png": "[encoded data removed]",
      "text/plain": [
       "<matplotlib.figure.Figure at 0x118eff128>"
      ]
     },
     "metadata": {},
     "output_type": "display_data"
    }
   ],
   "source": [
    "%matplotlib inline\n",
    "returns.plot();"
   ]
  },
  {
   "cell_type": "code",
   "execution_count": 61,
   "metadata": {},
   "outputs": [],
   "source": [
    "from scipy import stats"
   ]
  },
  {
   "cell_type": "markdown",
   "metadata": {},
   "source": [
    "T-Test with p-value. Is the returns significantly different from zero?"
   ]
  },
  {
   "cell_type": "code",
   "execution_count": 62,
   "metadata": {},
   "outputs": [
    {
     "name": "stdout",
     "output_type": "stream",
     "text": [
      "IBM \t Ttest_1sampResult(statistic=-0.4205707215208964, pvalue=0.6744173148634006)\n",
      "MSFT \t Ttest_1sampResult(statistic=2.238246348043851, pvalue=0.02605511950461849)\n",
      "SPY \t Ttest_1sampResult(statistic=2.6554355063814863, pvalue=0.008411633872026583)\n",
      "XOM \t Ttest_1sampResult(statistic=-0.6116025757271741, pvalue=0.5413371952094352)\n"
     ]
    }
   ],
   "source": [
    "for oo in returns.columns:\n",
    "    print(\"{} \\t {}\".format(oo, stats.ttest_1samp(returns[oo], 0)))"
   ]
  },
  {
   "cell_type": "markdown",
   "metadata": {
    "heading_collapsed": true
   },
   "source": [
    "### Bartlett’s test for equal variances\n"
   ]
  },
  {
   "cell_type": "markdown",
   "metadata": {
    "hidden": true
   },
   "source": [
    "[doc](https://docs.scipy.org/doc/scipy-0.18.1/reference/generated/scipy.stats.bartlett.html)\n",
    "\n",
    "\n",
    "Bartlett’s test tests the null hypothesis that all input samples are from populations with equal variances. For samples from significantly non-normal populations, Levene’s test levene is more robust."
   ]
  },
  {
   "cell_type": "code",
   "execution_count": null,
   "metadata": {
    "hidden": true
   },
   "outputs": [],
   "source": [
    "import scipy as sp "
   ]
  },
  {
   "cell_type": "code",
   "execution_count": null,
   "metadata": {
    "hidden": true
   },
   "outputs": [],
   "source": [
    "print(sp.stats.bartlett(returns[\"IBM\"], returns[\"MSFT\"]))"
   ]
  },
  {
   "cell_type": "markdown",
   "metadata": {
    "heading_collapsed": true
   },
   "source": [
    "### Levene test for equal variances."
   ]
  },
  {
   "cell_type": "markdown",
   "metadata": {
    "hidden": true
   },
   "source": [
    "[doc](https://docs.scipy.org/doc/scipy-0.18.1/reference/generated/scipy.stats.levene.html)\n",
    "\n",
    "The Levene test tests the null hypothesis that all input samples are from populations with equal variances. Levene’s test is an alternative to Bartlett’s test bartlett in the case where there are significant deviations from normality."
   ]
  },
  {
   "cell_type": "code",
   "execution_count": null,
   "metadata": {
    "hidden": true
   },
   "outputs": [],
   "source": [
    "print(sp.stats.levene(returns[\"IBM\"], returns[\"MSFT\"]))"
   ]
  },
  {
   "cell_type": "markdown",
   "metadata": {
    "heading_collapsed": true
   },
   "source": [
    "### Jan Month Effect"
   ]
  },
  {
   "cell_type": "code",
   "execution_count": null,
   "metadata": {
    "hidden": true
   },
   "outputs": [],
   "source": [
    "import pandas_datareader.data as web\n",
    "from datetime import datetime\n",
    "start = datetime(1960, 1, 1)\n",
    "end = datetime(2018, 1, 1)\n",
    "prices = web.DataReader('SPY', 'morningstar', start, end)"
   ]
  },
  {
   "cell_type": "code",
   "execution_count": null,
   "metadata": {
    "hidden": true
   },
   "outputs": [],
   "source": [
    "prices['returns'] = prices['Close'].pct_change()"
   ]
  },
  {
   "cell_type": "code",
   "execution_count": null,
   "metadata": {
    "hidden": true
   },
   "outputs": [],
   "source": [
    "prices.head()"
   ]
  },
  {
   "cell_type": "code",
   "execution_count": null,
   "metadata": {
    "hidden": true
   },
   "outputs": [],
   "source": [
    "prices.tail()"
   ]
  },
  {
   "cell_type": "code",
   "execution_count": null,
   "metadata": {
    "hidden": true,
    "scrolled": true
   },
   "outputs": [],
   "source": [
    "mth_price = prices.reset_index().set_index(\"Date\")['Close'].resample('BM').last()\n",
    "mth_price"
   ]
  },
  {
   "cell_type": "code",
   "execution_count": null,
   "metadata": {
    "hidden": true
   },
   "outputs": [],
   "source": [
    "mth_rtns = mth_price.pct_change()\n",
    "mth_rtns.head()"
   ]
  },
  {
   "cell_type": "code",
   "execution_count": null,
   "metadata": {
    "hidden": true
   },
   "outputs": [],
   "source": [
    "jan_rtns = mth_rtns[mth_rtns.index.month==1]"
   ]
  },
  {
   "cell_type": "code",
   "execution_count": null,
   "metadata": {
    "hidden": true
   },
   "outputs": [],
   "source": [
    "other_rtns = mth_rtns[mth_rtns.index.month!=1]"
   ]
  },
  {
   "cell_type": "code",
   "execution_count": null,
   "metadata": {
    "hidden": true
   },
   "outputs": [],
   "source": [
    "import scipy as sp\n",
    "print(sp.stats.bartlett(jan_rtns, other_rtns))"
   ]
  },
  {
   "cell_type": "markdown",
   "metadata": {
    "heading_collapsed": true
   },
   "source": [
    "### 52 week high low range"
   ]
  },
  {
   "cell_type": "code",
   "execution_count": null,
   "metadata": {
    "hidden": true
   },
   "outputs": [],
   "source": [
    "from datetime import datetime\n",
    "from dateutil.relativedelta import relativedelta"
   ]
  },
  {
   "cell_type": "code",
   "execution_count": null,
   "metadata": {
    "hidden": true
   },
   "outputs": [],
   "source": [
    "prices.head()"
   ]
  },
  {
   "cell_type": "code",
   "execution_count": null,
   "metadata": {
    "hidden": true
   },
   "outputs": [],
   "source": [
    "current_date = datetime.now()\n",
    "one_yr_delta = current_date - relativedelta(years=1)\n",
    "one_yr_delta"
   ]
  },
  {
   "cell_type": "code",
   "execution_count": null,
   "metadata": {
    "hidden": true
   },
   "outputs": [],
   "source": [
    "prices.index.get_level_values(1)"
   ]
  },
  {
   "cell_type": "code",
   "execution_count": null,
   "metadata": {
    "hidden": true
   },
   "outputs": [],
   "source": [
    "tmp = prices.reset_index().set_index('Date') \n",
    "print(tmp[tmp.index > one_yr_delta].head())\n",
    "print(tmp[tmp.index > one_yr_delta].tail())\n",
    "high = tmp[tmp.index > one_yr_delta]['Close'].max()\n",
    "low = tmp[tmp.index > one_yr_delta]['Close'].min()"
   ]
  },
  {
   "cell_type": "code",
   "execution_count": null,
   "metadata": {
    "hidden": true
   },
   "outputs": [],
   "source": [
    "current_price = float(tmp[tmp.index == tmp.index[-1]].Close)"
   ]
  },
  {
   "cell_type": "code",
   "execution_count": null,
   "metadata": {
    "hidden": true
   },
   "outputs": [],
   "source": [
    "print(\"Current price, 52-week high-low : {}, {}, {}\".format(current_price, high, low))"
   ]
  },
  {
   "cell_type": "code",
   "execution_count": null,
   "metadata": {
    "hidden": true
   },
   "outputs": [],
   "source": [
    "tmp.Close.plot();"
   ]
  },
  {
   "cell_type": "markdown",
   "metadata": {
    "heading_collapsed": true
   },
   "source": [
    "### Fama-French"
   ]
  },
  {
   "cell_type": "code",
   "execution_count": null,
   "metadata": {
    "hidden": true
   },
   "outputs": [],
   "source": [
    "from pandas_datareader.famafrench import get_available_datasets\n",
    "import pandas_datareader.data as web\n",
    "import statsmodels.api as sm"
   ]
  },
  {
   "cell_type": "code",
   "execution_count": null,
   "metadata": {
    "hidden": true
   },
   "outputs": [],
   "source": [
    "dataset = web.DataReader('F-F_Research_Data_5_Factors_2x3', 'famafrench')"
   ]
  },
  {
   "cell_type": "code",
   "execution_count": null,
   "metadata": {
    "hidden": true
   },
   "outputs": [],
   "source": [
    "print(dataset[0].head())\n",
    "print(dataset[0].tail())"
   ]
  },
  {
   "cell_type": "code",
   "execution_count": null,
   "metadata": {
    "hidden": true
   },
   "outputs": [],
   "source": [
    "start = datetime(2010, 1, 1)\n",
    "end = datetime(2018, 1, 1)\n",
    "prices = web.DataReader('XOM', 'morningstar', start, end)['Close']"
   ]
  },
  {
   "cell_type": "code",
   "execution_count": null,
   "metadata": {
    "hidden": true,
    "scrolled": true
   },
   "outputs": [],
   "source": [
    "xom = prices.reset_index(level=0, drop=True).resample('BM').last()\n",
    "rtns = xom.pct_change()\n",
    "rtns.head()"
   ]
  },
  {
   "cell_type": "code",
   "execution_count": null,
   "metadata": {
    "hidden": true,
    "scrolled": true
   },
   "outputs": [],
   "source": [
    "rtns = rtns.reset_index()\n",
    "rtns"
   ]
  },
  {
   "cell_type": "code",
   "execution_count": null,
   "metadata": {
    "hidden": true,
    "scrolled": true
   },
   "outputs": [],
   "source": [
    "rtns_date = []\n",
    "for oo in rtns.Date:\n",
    "    rtns_date.append(''.join([oo.strftime(\"%Y\"), \"-\", oo.strftime(\"%m\")]))"
   ]
  },
  {
   "cell_type": "code",
   "execution_count": null,
   "metadata": {
    "hidden": true
   },
   "outputs": [],
   "source": [
    "rtns_date = pd.to_datetime(rtns_date, format=\"%Y-%m\", errors=\"ignore\").to_period()\n",
    "rtns['mth_date'] = rtns_date\n",
    "rtns = rtns.set_index('mth_date')\n",
    "rtns.pop(\"Date\")\n",
    "rtns"
   ]
  },
  {
   "cell_type": "code",
   "execution_count": null,
   "metadata": {
    "hidden": true
   },
   "outputs": [],
   "source": [
    "dataset[0]"
   ]
  },
  {
   "cell_type": "code",
   "execution_count": null,
   "metadata": {
    "hidden": true
   },
   "outputs": [],
   "source": [
    "combined = rtns.join(dataset[0]).dropna()\n",
    "combined"
   ]
  },
  {
   "cell_type": "code",
   "execution_count": null,
   "metadata": {
    "hidden": true
   },
   "outputs": [],
   "source": [
    "y = combined.Close"
   ]
  },
  {
   "cell_type": "code",
   "execution_count": null,
   "metadata": {
    "hidden": true
   },
   "outputs": [],
   "source": [
    "x = combined[['Mkt-RF', 'SMB', 'HML', 'RMW', 'CMA']]\n",
    "x = sm.add_constant(x)"
   ]
  },
  {
   "cell_type": "code",
   "execution_count": null,
   "metadata": {
    "hidden": true
   },
   "outputs": [],
   "source": [
    "results=sm.OLS(y,x).fit() "
   ]
  },
  {
   "cell_type": "code",
   "execution_count": null,
   "metadata": {
    "hidden": true
   },
   "outputs": [],
   "source": [
    "results.summary()"
   ]
  },
  {
   "cell_type": "markdown",
   "metadata": {
    "heading_collapsed": true
   },
   "source": [
    "### Rolling Beta"
   ]
  },
  {
   "cell_type": "code",
   "execution_count": null,
   "metadata": {
    "hidden": true
   },
   "outputs": [],
   "source": [
    "import pandas_datareader.data as web\n",
    "from datetime import datetime\n",
    "start = datetime(1990, 1, 1)\n",
    "end = datetime(2018, 1, 1)\n",
    "prices = web.DataReader(['SPY', 'IBM', 'MSFT', 'XOM'], 'morningstar', start, end)"
   ]
  },
  {
   "cell_type": "code",
   "execution_count": null,
   "metadata": {
    "hidden": true
   },
   "outputs": [],
   "source": [
    "returns = prices[\"Close\"].unstack(level=-1).T.dropna().resample('BM').last().pct_change().dropna()\n",
    "returns"
   ]
  },
  {
   "cell_type": "code",
   "execution_count": null,
   "metadata": {
    "hidden": true
   },
   "outputs": [],
   "source": [
    "import statsmodels.api as sm"
   ]
  },
  {
   "cell_type": "code",
   "execution_count": null,
   "metadata": {
    "hidden": true
   },
   "outputs": [],
   "source": [
    "ibm = returns.IBM"
   ]
  },
  {
   "cell_type": "code",
   "execution_count": null,
   "metadata": {
    "hidden": true
   },
   "outputs": [],
   "source": [
    "spy = returns.SPY"
   ]
  },
  {
   "cell_type": "code",
   "execution_count": null,
   "metadata": {
    "hidden": true
   },
   "outputs": [],
   "source": [
    "beta= []\n",
    "for oo in range(60,len(returns)):\n",
    "    model = sm.OLS(sm.add_constant(ibm[:oo]), spy[:oo]).fit()\n",
    "    beta.append([spy[:oo].index[-1], float(model.params[1])])\n",
    "beta = pd.DataFrame(beta)\n",
    "beta.columns = ['Date', 'beta']\n",
    "beta = beta.set_index('Date')"
   ]
  },
  {
   "cell_type": "code",
   "execution_count": null,
   "metadata": {
    "hidden": true
   },
   "outputs": [],
   "source": [
    "beta.plot();"
   ]
  },
  {
   "cell_type": "markdown",
   "metadata": {
    "heading_collapsed": true
   },
   "source": [
    "### Efficient Frontier"
   ]
  },
  {
   "cell_type": "markdown",
   "metadata": {
    "hidden": true
   },
   "source": [
    "Portfolio expected return\n",
    "\n",
    "\\begin{equation}\n",
    "r_P = \\sum^n_{i=1}w_ir_i\n",
    "\\end{equation}\n",
    "\n",
    "\\begin{equation}\n",
    "r_P = w^Tr\n",
    "\\end{equation}\n",
    "\n",
    "Variance for two-stocks portfolio\n",
    "\n",
    "\\begin{equation}\n",
    "\\sigma^2_P=w^2_1\\sigma^2_1+w^2_2\\sigma^2_2+2w_1w_2\\sigma_{1,2}=w^2_1\\sigma^2_1+w^2_2\\sigma^2_2+2w_1w_2\\rho\\sigma_1\\sigma_2\n",
    "\\end{equation}\n",
    "\n",
    "Variance for multi-stocks portfolio\n",
    "\n",
    "\\begin{equation}\n",
    "\\sigma^2_P=w^T \\sum w\n",
    "\\end{equation}\n",
    "\n"
   ]
  },
  {
   "cell_type": "code",
   "execution_count": null,
   "metadata": {
    "hidden": true
   },
   "outputs": [],
   "source": [
    "import numpy as np"
   ]
  },
  {
   "cell_type": "code",
   "execution_count": null,
   "metadata": {
    "hidden": true
   },
   "outputs": [],
   "source": [
    "np.random.seed(42)\n",
    "returns = np.random.randint(0, 20, size=(10, 2)) / 100    # simulate returns\n",
    "returns"
   ]
  },
  {
   "cell_type": "code",
   "execution_count": null,
   "metadata": {
    "hidden": true
   },
   "outputs": [],
   "source": [
    "covariance = np.cov(returns.T)\n",
    "covariance"
   ]
  },
  {
   "cell_type": "code",
   "execution_count": null,
   "metadata": {
    "hidden": true
   },
   "outputs": [],
   "source": [
    "weight = np.array([0.2, 0.8])"
   ]
  },
  {
   "cell_type": "code",
   "execution_count": null,
   "metadata": {
    "hidden": true
   },
   "outputs": [],
   "source": [
    "np.dot(weight.T, np.dot(np.cov(returns.T), weight))"
   ]
  },
  {
   "cell_type": "code",
   "execution_count": null,
   "metadata": {
    "hidden": true
   },
   "outputs": [],
   "source": [
    "print(\"Portfolio variance: {}\".format(float(np.dot(np.dot(weight, covariance), weight.T))))"
   ]
  },
  {
   "cell_type": "code",
   "execution_count": null,
   "metadata": {
    "hidden": true
   },
   "outputs": [],
   "source": [
    "print(\"Portfolio expected return: {}\".format(float(np.dot(weight.T, returns.mean(axis=0)))))"
   ]
  },
  {
   "cell_type": "markdown",
   "metadata": {},
   "source": [
    "### Optimization "
   ]
  },
  {
   "cell_type": "markdown",
   "metadata": {},
   "source": [
    "[wolfram](http://www.wolframalpha.com/input/?i=x%5E2+-+4)\n",
    "\n",
    "$$x^2 - 4x$$"
   ]
  },
  {
   "cell_type": "code",
   "execution_count": null,
   "metadata": {},
   "outputs": [],
   "source": [
    "from scipy.optimize import minimize"
   ]
  },
  {
   "cell_type": "code",
   "execution_count": null,
   "metadata": {},
   "outputs": [],
   "source": [
    "def f(x):\n",
    "    return x**2 - 4"
   ]
  },
  {
   "cell_type": "code",
   "execution_count": null,
   "metadata": {},
   "outputs": [],
   "source": [
    "x0 = 0"
   ]
  },
  {
   "cell_type": "code",
   "execution_count": null,
   "metadata": {},
   "outputs": [],
   "source": [
    "result = minimize?"
   ]
  },
  {
   "cell_type": "code",
   "execution_count": null,
   "metadata": {},
   "outputs": [],
   "source": [
    "result = minimize(f, x0, method=\"Nelder-Mead\", options={\"xtol\" : 1e-10, \n",
    "                                                        'disp' : True})"
   ]
  },
  {
   "cell_type": "code",
   "execution_count": null,
   "metadata": {},
   "outputs": [],
   "source": [
    "print(result.x)"
   ]
  },
  {
   "cell_type": "code",
   "execution_count": null,
   "metadata": {},
   "outputs": [],
   "source": [
    "result.fun"
   ]
  },
  {
   "cell_type": "markdown",
   "metadata": {},
   "source": [
    "### Portfolio Optimisation"
   ]
  },
  {
   "cell_type": "markdown",
   "metadata": {},
   "source": [
    "#### Introduction"
   ]
  },
  {
   "cell_type": "markdown",
   "metadata": {},
   "source": [
    "inspired by Yves Hilpisch excellent book `Python for Finance`"
   ]
  },
  {
   "cell_type": "markdown",
   "metadata": {},
   "source": [
    "Portfolio expected return\n",
    "\n",
    "\\begin{equation}\n",
    "r_P = \\sum^n_{i=1}w_ir_i\n",
    "\\end{equation}\n",
    "\n",
    "\\begin{equation}\n",
    "r_P = w^Tr\n",
    "\\end{equation}\n",
    "\n",
    "Variance for two-stocks portfolio\n",
    "\n",
    "\\begin{equation}\n",
    "\\sigma^2_P=w^2_1\\sigma^2_1+w^2_2\\sigma^2_2+2w^2_1w^2_2\\sigma_{1,2}w^2_1\\sigma^2_1+w^2_2\\sigma^2_2+2w^2_1w^2_2\\rho\\sigma_1\\sigma_2\n",
    "\\end{equation}\n",
    "\n",
    "Variance for multi-stocks portfolio\n",
    "\n",
    "\\begin{equation}\n",
    "\\sigma^2_P=w^T \\sum w\n",
    "\\end{equation}\n",
    "\n"
   ]
  },
  {
   "cell_type": "code",
   "execution_count": null,
   "metadata": {},
   "outputs": [],
   "source": [
    "import matplotlib.pyplot as plt\n",
    "%matplotlib inline\n",
    "#import seaborn as sns\n",
    "#sns.set()\n",
    "\n",
    "import numpy as np\n",
    "import pandas as pd\n",
    "import pandas_datareader.data as web\n",
    "from datetime import datetime\n",
    "start = datetime(2015, 1, 1)\n",
    "end = datetime(2016, 1, 1)\n",
    "tickers = ['TSLA', 'F', 'V', 'DIS', 'GLD']\n",
    "prices = web.DataReader(tickers, \n",
    "                        'morningstar', start, end)\n",
    "returns = prices[\"Close\"].unstack(level=-1).T.dropna().pct_change().dropna()"
   ]
  },
  {
   "cell_type": "code",
   "execution_count": null,
   "metadata": {},
   "outputs": [],
   "source": [
    "returns.columns"
   ]
  },
  {
   "cell_type": "markdown",
   "metadata": {},
   "source": [
    "Annualised Mean"
   ]
  },
  {
   "cell_type": "code",
   "execution_count": null,
   "metadata": {},
   "outputs": [],
   "source": [
    "print(returns.mean() * 250)"
   ]
  },
  {
   "cell_type": "markdown",
   "metadata": {},
   "source": [
    "Variance - Covariance Matrix (Annualised)"
   ]
  },
  {
   "cell_type": "code",
   "execution_count": null,
   "metadata": {},
   "outputs": [],
   "source": [
    "returns.cov() * 250"
   ]
  },
  {
   "cell_type": "raw",
   "metadata": {},
   "source": [
    "corr_mat = returns.corr()\n",
    "mask = np.zeros_like(corr_mat)\n",
    "mask[np.triu_indices_from(mask)] = True\n",
    "f, ax = plt.subplots(figsize=(12, 9))\n",
    "cmap = sns.diverging_palette(10, 240, s=99, l=70, n=9, as_cmap=True)\n",
    "with sns.axes_style(\"white\"):\n",
    "    ax = sns.heatmap(corr_mat, mask=mask, \n",
    "                     annot=True, fmt='.2f', vmin=-1, vmax=1, \n",
    "                     linewidths=.5, square=True,\n",
    "                     cmap=cmap)"
   ]
  },
  {
   "cell_type": "code",
   "execution_count": null,
   "metadata": {},
   "outputs": [],
   "source": [
    "portfolio_rtns = []\n",
    "portfolio_vols = []\n",
    "for oo in range(5000):\n",
    "    weights = np.random.random(len(tickers))\n",
    "    weights /= np.sum(weights)\n",
    "    portfolio_rtns.append(np.sum(weights * returns.mean() * 250))\n",
    "    portfolio_vols.append(np.sqrt(float(np.dot(np.dot(weights, returns.cov() * 250), weights.T))))"
   ]
  },
  {
   "cell_type": "code",
   "execution_count": null,
   "metadata": {
    "scrolled": true
   },
   "outputs": [],
   "source": [
    "comb = pd.DataFrame([portfolio_rtns, portfolio_vols]).T\n",
    "comb.columns = ['rtns', 'vols']\n",
    "comb.head()"
   ]
  },
  {
   "cell_type": "raw",
   "metadata": {},
   "source": [
    "sns.lmplot('vols', \n",
    "           'rtns',\n",
    "           data=comb, \n",
    "           fit_reg=False);\n",
    "plt.xlabel('expected volatility')\n",
    "plt.ylabel('expected return')\n",
    "plt.axis('equal');\n",
    "plt.xlim(0, 0.35)\n",
    "plt.ylim(-0.10, 0.25);"
   ]
  },
  {
   "cell_type": "code",
   "execution_count": null,
   "metadata": {},
   "outputs": [],
   "source": [
    "#sns.set(style='whitegrid')\n",
    "plt.figure(figsize=(8, 4))\n",
    "plt.scatter(portfolio_vols, portfolio_rtns, \n",
    "            c = np.array(portfolio_rtns) / np.array(portfolio_vols))\n",
    "plt.grid(True)\n",
    "plt.xlabel('volatility')\n",
    "plt.ylabel('return')\n",
    "plt.colorbar(label='Sharpe ratio');\n",
    "#plt.axis('equal');\n",
    "#plt.xlim(0, 0.25);\n",
    "#plt.ylim(-0.10, 0.2);"
   ]
  },
  {
   "cell_type": "code",
   "execution_count": null,
   "metadata": {},
   "outputs": [],
   "source": [
    " def portfolio_stats(weights):\n",
    "        weights = np.array(weights)\n",
    "        portfolio_rtn = np.sum(weights * returns.mean() * 250)\n",
    "        portfolio_vol = np.sqrt(float(np.dot(np.dot(weights, returns.cov() * 250), weights.T)))\n",
    "        return np.array([portfolio_rtn, portfolio_vol, portfolio_rtn / portfolio_vol])"
   ]
  },
  {
   "cell_type": "code",
   "execution_count": null,
   "metadata": {},
   "outputs": [],
   "source": [
    "import scipy.optimize as sco"
   ]
  },
  {
   "cell_type": "markdown",
   "metadata": {},
   "source": [
    "#### Maximise Sharpe Ratio"
   ]
  },
  {
   "cell_type": "code",
   "execution_count": null,
   "metadata": {},
   "outputs": [],
   "source": [
    "def min_func_sharpe(weights):\n",
    "    return - portfolio_stats(weights)[2]"
   ]
  },
  {
   "cell_type": "code",
   "execution_count": null,
   "metadata": {},
   "outputs": [],
   "source": [
    "cons = ({'type': 'eq', 'fun': lambda x:  np.sum(x) - 1})"
   ]
  },
  {
   "cell_type": "code",
   "execution_count": null,
   "metadata": {},
   "outputs": [],
   "source": [
    "bnds = tuple((0, 1) for x in range(len(tickers)))"
   ]
  },
  {
   "cell_type": "code",
   "execution_count": null,
   "metadata": {},
   "outputs": [],
   "source": [
    "%%time \n",
    "opts = sco.minimize(min_func_sharpe, len(tickers) * [1. / len(tickers),], \n",
    "                    method='SLSQP',\n",
    "                    bounds=bnds, \n",
    "                    constraints=cons)"
   ]
  },
  {
   "cell_type": "code",
   "execution_count": null,
   "metadata": {},
   "outputs": [],
   "source": [
    "opts"
   ]
  },
  {
   "cell_type": "code",
   "execution_count": null,
   "metadata": {},
   "outputs": [],
   "source": [
    "opts['x'].round(3)"
   ]
  },
  {
   "cell_type": "code",
   "execution_count": null,
   "metadata": {},
   "outputs": [],
   "source": [
    "r, vol, sr = portfolio_stats(opts['x']).round(3)\n",
    "print(\"Portfolio returns: {0}\\nPortfolio volatility: {1}\\nSharpe Ratio: {2}\".format(r, vol, sr))"
   ]
  },
  {
   "cell_type": "markdown",
   "metadata": {},
   "source": [
    "#### Minimise Variance"
   ]
  },
  {
   "cell_type": "code",
   "execution_count": null,
   "metadata": {},
   "outputs": [],
   "source": [
    "def min_func_variance(weights):             \n",
    "    return portfolio_stats(weights)[1] ** 2"
   ]
  },
  {
   "cell_type": "code",
   "execution_count": null,
   "metadata": {},
   "outputs": [],
   "source": [
    "optv = sco.minimize(min_func_variance, len(tickers) * [1. / len(tickers),], \n",
    "                    method='SLSQP', bounds=bnds,\n",
    "                    constraints=cons)"
   ]
  },
  {
   "cell_type": "code",
   "execution_count": null,
   "metadata": {},
   "outputs": [],
   "source": [
    "optv"
   ]
  },
  {
   "cell_type": "code",
   "execution_count": null,
   "metadata": {},
   "outputs": [],
   "source": [
    "optv['x'].round(3)"
   ]
  },
  {
   "cell_type": "code",
   "execution_count": null,
   "metadata": {},
   "outputs": [],
   "source": [
    "r, vol, sr = portfolio_stats(optv['x']).round(3)\n",
    "print(\"Portfolio returns: {0}\\nPortfolio volatility: {1}\\nSharpe Ratio: {2}\".format(r, vol, sr))"
   ]
  },
  {
   "cell_type": "markdown",
   "metadata": {},
   "source": [
    "#### Efficient Frontier"
   ]
  },
  {
   "cell_type": "markdown",
   "metadata": {},
   "source": [
    "Minimum risk portfolio for given return level"
   ]
  },
  {
   "cell_type": "code",
   "execution_count": null,
   "metadata": {},
   "outputs": [],
   "source": [
    "cons = ({'type': 'eq', 'fun': lambda x:  statistics(x)[0] - tret},                 \n",
    "        {'type': 'eq', 'fun': lambda x:  np.sum(x) - 1})         \n",
    "bnds = tuple((0, 1) for x in weights)"
   ]
  },
  {
   "cell_type": "code",
   "execution_count": null,
   "metadata": {},
   "outputs": [],
   "source": [
    " def min_func_port(weights):             \n",
    "        return portfolio_stats(weights)[1]"
   ]
  },
  {
   "cell_type": "code",
   "execution_count": null,
   "metadata": {},
   "outputs": [],
   "source": [
    "%%time\n",
    "\n",
    "trets = np.linspace(0.0, 0.18, 100)         \n",
    "tvols = []         \n",
    "for tret in trets:             \n",
    "    cons = ({'type': 'eq', 'fun': lambda x:  portfolio_stats(x)[0] - tret},                     \n",
    "            {'type': 'eq', 'fun': lambda x:  np.sum(x) - 1})             \n",
    "    res = sco.minimize(min_func_port, \n",
    "                       len(tickers) * [1. / len(tickers),], \n",
    "                       method='SLSQP',                                \n",
    "                       bounds=bnds, constraints=cons)             \n",
    "    tvols.append(res['fun'])         \n",
    "tvols = np.array(tvols)"
   ]
  },
  {
   "cell_type": "code",
   "execution_count": null,
   "metadata": {},
   "outputs": [],
   "source": [
    "plt.figure(figsize=(20, 10))\n",
    "plt.scatter(portfolio_vols, portfolio_rtns,                     \n",
    "            c=np.array(portfolio_rtns) / np.array(portfolio_vols), \n",
    "            marker='o')                     \n",
    "            # random portfolio composition         \n",
    "plt.scatter(tvols, trets,    \n",
    "            c=trets / tvols, marker='x')                     \n",
    "            # efficient frontier         \n",
    "plt.plot(portfolio_stats(opts['x'])[1], portfolio_stats(opts['x'])[0],                  \n",
    "         'r*', markersize=15.0)                     \n",
    "         # portfolio with highest Sharpe ratio         \n",
    "plt.plot(portfolio_stats(optv['x'])[1], portfolio_stats(optv['x'])[0],                  \n",
    "         'y*', markersize=15.0)                     \n",
    "         # minimum variance portfolio         \n",
    "plt.grid(True)         \n",
    "plt.xlabel('expected volatility')         \n",
    "plt.ylabel('expected return')         \n",
    "plt.colorbar(label='Sharpe ratio');"
   ]
  },
  {
   "cell_type": "markdown",
   "metadata": {},
   "source": [
    "#### Capital Market Line"
   ]
  },
  {
   "cell_type": "code",
   "execution_count": null,
   "metadata": {},
   "outputs": [],
   "source": [
    "import scipy.interpolate as sci"
   ]
  },
  {
   "cell_type": "code",
   "execution_count": null,
   "metadata": {},
   "outputs": [],
   "source": [
    "ind = np.argmin(tvols)         \n",
    "evols = tvols[ind:]         \n",
    "erets = trets[ind:] "
   ]
  },
  {
   "cell_type": "code",
   "execution_count": null,
   "metadata": {},
   "outputs": [],
   "source": [
    "tck = sci.splrep(evols, erets)"
   ]
  },
  {
   "cell_type": "code",
   "execution_count": null,
   "metadata": {},
   "outputs": [],
   "source": [
    " def f(x):             \n",
    "        ''' Efficient frontier function (splines approximation). '''             \n",
    "        return sci.splev(x, tck, der=0)         \n",
    "    \n",
    "def df(x):             \n",
    "    ''' First derivative of efficient frontier function. '''             \n",
    "    return sci.splev(x, tck, der=1) "
   ]
  },
  {
   "cell_type": "code",
   "execution_count": null,
   "metadata": {},
   "outputs": [],
   "source": [
    "def equations(p, rf=0.01):             \n",
    "    eq1 = rf - p[0]             \n",
    "    eq2 = rf + p[1] * p[2] - f(p[2])             \n",
    "    eq3 = p[1] - df(p[2])             \n",
    "    return eq1, eq2, eq3"
   ]
  },
  {
   "cell_type": "code",
   "execution_count": null,
   "metadata": {},
   "outputs": [],
   "source": [
    "opt = sco.fsolve(equations, [0.01, 0.5, 0.15])"
   ]
  },
  {
   "cell_type": "code",
   "execution_count": null,
   "metadata": {},
   "outputs": [],
   "source": [
    "opt"
   ]
  },
  {
   "cell_type": "code",
   "execution_count": null,
   "metadata": {},
   "outputs": [],
   "source": [
    "np.round(equations(opt), 6)"
   ]
  },
  {
   "cell_type": "code",
   "execution_count": null,
   "metadata": {},
   "outputs": [],
   "source": [
    "plt.figure(figsize=(20, 10))         \n",
    "plt.scatter(portfolio_vols, portfolio_rtns,                     \n",
    "            c=(np.array(portfolio_rtns) - 0.01) / np.array(portfolio_vols), marker='o')                     \n",
    "            # random portfolio composition         \n",
    "plt.plot(evols, erets, 'g', lw=4.0)                     \n",
    "            # efficient frontier         \n",
    "cx = np.linspace(0.0, 0.3)         \n",
    "plt.plot(cx, opt[0] + opt[1] * cx, lw=1.5)                     \n",
    "            # capital market line         \n",
    "plt.plot(opt[2], f(opt[2]), 'r*', markersize=15.0)         \n",
    "plt.grid(True)         \n",
    "plt.axhline(0, color='k', ls='--', lw=2.0)         \n",
    "plt.axvline(0, color='k', ls='--', lw=2.0)         \n",
    "plt.xlabel('expected volatility')         \n",
    "plt.ylabel('expected return')         \n",
    "plt.colorbar(label='Sharpe ratio');"
   ]
  },
  {
   "cell_type": "code",
   "execution_count": null,
   "metadata": {},
   "outputs": [],
   "source": [
    "cons = ({'type': 'eq', 'fun': lambda x:  portfolio_stats(x)[0] - f(opt[2])},                 \n",
    "        {'type': 'eq', 'fun': lambda x:  np.sum(x) - 1})         \n",
    "res = sco.minimize(min_func_port, len(tickers) * [1. / len(tickers),], method='SLSQP',                                \n",
    "                   bounds=bnds, constraints=cons)\n"
   ]
  },
  {
   "cell_type": "code",
   "execution_count": null,
   "metadata": {},
   "outputs": [],
   "source": [
    "res['x'].round(3)"
   ]
  },
  {
   "cell_type": "markdown",
   "metadata": {
    "heading_collapsed": true
   },
   "source": [
    "# Time Series 2"
   ]
  },
  {
   "cell_type": "code",
   "execution_count": 2,
   "metadata": {
    "hidden": true
   },
   "outputs": [],
   "source": [
    "import pandas as pd\n",
    "from datetime import datetime\n",
    "prices = pd.read_csv(\"data/^GSPC.csv\")"
   ]
  },
  {
   "cell_type": "code",
   "execution_count": 3,
   "metadata": {
    "hidden": true,
    "scrolled": true
   },
   "outputs": [],
   "source": [
    "prices['Date'] = pd.to_datetime(prices[\"Date\"], infer_datetime_format=True)\n",
    "prices.set_index(\"Date\", inplace=True)"
   ]
  },
  {
   "cell_type": "code",
   "execution_count": 4,
   "metadata": {
    "hidden": true
   },
   "outputs": [
    {
     "data": {
      "text/html": [
       "<div>\n",
       "<style scoped>\n",
       "    .dataframe tbody tr th:only-of-type {\n",
       "        vertical-align: middle;\n",
       "    }\n",
       "\n",
       "    .dataframe tbody tr th {\n",
       "        vertical-align: top;\n",
       "    }\n",
       "\n",
       "    .dataframe thead th {\n",
       "        text-align: right;\n",
       "    }\n",
       "</style>\n",
       "<table border=\"1\" class=\"dataframe\">\n",
       "  <thead>\n",
       "    <tr style=\"text-align: right;\">\n",
       "      <th></th>\n",
       "      <th>Open</th>\n",
       "      <th>High</th>\n",
       "      <th>Low</th>\n",
       "      <th>Close</th>\n",
       "      <th>Adj Close</th>\n",
       "      <th>Volume</th>\n",
       "    </tr>\n",
       "    <tr>\n",
       "      <th>Date</th>\n",
       "      <th></th>\n",
       "      <th></th>\n",
       "      <th></th>\n",
       "      <th></th>\n",
       "      <th></th>\n",
       "      <th></th>\n",
       "    </tr>\n",
       "  </thead>\n",
       "  <tbody>\n",
       "    <tr>\n",
       "      <th>1950-01-01</th>\n",
       "      <td>16.660000</td>\n",
       "      <td>17.090000</td>\n",
       "      <td>16.650000</td>\n",
       "      <td>17.049999</td>\n",
       "      <td>17.049999</td>\n",
       "      <td>42570000</td>\n",
       "    </tr>\n",
       "    <tr>\n",
       "      <th>1950-02-01</th>\n",
       "      <td>17.049999</td>\n",
       "      <td>17.350000</td>\n",
       "      <td>16.990000</td>\n",
       "      <td>17.219999</td>\n",
       "      <td>17.219999</td>\n",
       "      <td>33430000</td>\n",
       "    </tr>\n",
       "    <tr>\n",
       "      <th>1950-03-01</th>\n",
       "      <td>17.240000</td>\n",
       "      <td>17.610001</td>\n",
       "      <td>17.070000</td>\n",
       "      <td>17.290001</td>\n",
       "      <td>17.290001</td>\n",
       "      <td>40410000</td>\n",
       "    </tr>\n",
       "    <tr>\n",
       "      <th>1950-04-01</th>\n",
       "      <td>17.340000</td>\n",
       "      <td>18.070000</td>\n",
       "      <td>17.340000</td>\n",
       "      <td>18.070000</td>\n",
       "      <td>18.070000</td>\n",
       "      <td>48250000</td>\n",
       "    </tr>\n",
       "    <tr>\n",
       "      <th>1950-05-01</th>\n",
       "      <td>18.219999</td>\n",
       "      <td>18.780001</td>\n",
       "      <td>18.110001</td>\n",
       "      <td>18.780001</td>\n",
       "      <td>18.780001</td>\n",
       "      <td>45080000</td>\n",
       "    </tr>\n",
       "  </tbody>\n",
       "</table>\n",
       "</div>"
      ],
      "text/plain": [
       "                 Open       High        Low      Close  Adj Close    Volume\n",
       "Date                                                                       \n",
       "1950-01-01  16.660000  17.090000  16.650000  17.049999  17.049999  42570000\n",
       "1950-02-01  17.049999  17.350000  16.990000  17.219999  17.219999  33430000\n",
       "1950-03-01  17.240000  17.610001  17.070000  17.290001  17.290001  40410000\n",
       "1950-04-01  17.340000  18.070000  17.340000  18.070000  18.070000  48250000\n",
       "1950-05-01  18.219999  18.780001  18.110001  18.780001  18.780001  45080000"
      ]
     },
     "execution_count": 4,
     "metadata": {},
     "output_type": "execute_result"
    }
   ],
   "source": [
    "prices.head()"
   ]
  },
  {
   "cell_type": "code",
   "execution_count": 5,
   "metadata": {
    "hidden": true
   },
   "outputs": [],
   "source": [
    "mth_price = prices.resample('BM')['Adj Close'].last()\n",
    "mth_rtns = mth_price.pct_change()\n",
    "\n",
    "jan_rtns = mth_rtns[mth_rtns.index.month==1]\n",
    "other_rtns = mth_rtns[mth_rtns.index.month!=1]"
   ]
  },
  {
   "cell_type": "code",
   "execution_count": 7,
   "metadata": {
    "hidden": true
   },
   "outputs": [
    {
     "name": "stdout",
     "output_type": "stream",
     "text": [
      "BartlettResult(statistic=4.599212108275581, pvalue=0.031986653036613084)\n"
     ]
    }
   ],
   "source": [
    "from scipy import stats\n",
    "print(stats.bartlett(jan_rtns, other_rtns))"
   ]
  },
  {
   "cell_type": "code",
   "execution_count": 8,
   "metadata": {
    "hidden": true
   },
   "outputs": [
    {
     "data": {
      "text/html": [
       "<div>\n",
       "<style scoped>\n",
       "    .dataframe tbody tr th:only-of-type {\n",
       "        vertical-align: middle;\n",
       "    }\n",
       "\n",
       "    .dataframe tbody tr th {\n",
       "        vertical-align: top;\n",
       "    }\n",
       "\n",
       "    .dataframe thead th {\n",
       "        text-align: right;\n",
       "    }\n",
       "</style>\n",
       "<table border=\"1\" class=\"dataframe\">\n",
       "  <thead>\n",
       "    <tr style=\"text-align: right;\">\n",
       "      <th></th>\n",
       "      <th>Open</th>\n",
       "      <th>High</th>\n",
       "      <th>Low</th>\n",
       "      <th>Close</th>\n",
       "      <th>Adj Close</th>\n",
       "      <th>Volume</th>\n",
       "    </tr>\n",
       "    <tr>\n",
       "      <th>Date</th>\n",
       "      <th></th>\n",
       "      <th></th>\n",
       "      <th></th>\n",
       "      <th></th>\n",
       "      <th></th>\n",
       "      <th></th>\n",
       "    </tr>\n",
       "  </thead>\n",
       "  <tbody>\n",
       "    <tr>\n",
       "      <th>1989-08-01</th>\n",
       "      <td>346.079987</td>\n",
       "      <td>352.730011</td>\n",
       "      <td>339.000000</td>\n",
       "      <td>351.450012</td>\n",
       "      <td>351.450012</td>\n",
       "      <td>3949100000</td>\n",
       "    </tr>\n",
       "    <tr>\n",
       "      <th>1989-09-01</th>\n",
       "      <td>351.450012</td>\n",
       "      <td>354.130005</td>\n",
       "      <td>341.369995</td>\n",
       "      <td>349.149994</td>\n",
       "      <td>349.149994</td>\n",
       "      <td>3035020000</td>\n",
       "    </tr>\n",
       "    <tr>\n",
       "      <th>1989-10-01</th>\n",
       "      <td>349.149994</td>\n",
       "      <td>360.440002</td>\n",
       "      <td>327.119995</td>\n",
       "      <td>340.359985</td>\n",
       "      <td>340.359985</td>\n",
       "      <td>4012670000</td>\n",
       "    </tr>\n",
       "    <tr>\n",
       "      <th>1989-11-01</th>\n",
       "      <td>340.359985</td>\n",
       "      <td>346.500000</td>\n",
       "      <td>330.910004</td>\n",
       "      <td>345.989990</td>\n",
       "      <td>345.989990</td>\n",
       "      <td>3032160000</td>\n",
       "    </tr>\n",
       "    <tr>\n",
       "      <th>1989-12-01</th>\n",
       "      <td>346.010010</td>\n",
       "      <td>354.100006</td>\n",
       "      <td>339.630005</td>\n",
       "      <td>353.399994</td>\n",
       "      <td>353.399994</td>\n",
       "      <td>3213420000</td>\n",
       "    </tr>\n",
       "  </tbody>\n",
       "</table>\n",
       "</div>"
      ],
      "text/plain": [
       "                  Open        High         Low       Close   Adj Close  \\\n",
       "Date                                                                     \n",
       "1989-08-01  346.079987  352.730011  339.000000  351.450012  351.450012   \n",
       "1989-09-01  351.450012  354.130005  341.369995  349.149994  349.149994   \n",
       "1989-10-01  349.149994  360.440002  327.119995  340.359985  340.359985   \n",
       "1989-11-01  340.359985  346.500000  330.910004  345.989990  345.989990   \n",
       "1989-12-01  346.010010  354.100006  339.630005  353.399994  353.399994   \n",
       "\n",
       "                Volume  \n",
       "Date                    \n",
       "1989-08-01  3949100000  \n",
       "1989-09-01  3035020000  \n",
       "1989-10-01  4012670000  \n",
       "1989-11-01  3032160000  \n",
       "1989-12-01  3213420000  "
      ]
     },
     "execution_count": 8,
     "metadata": {},
     "output_type": "execute_result"
    }
   ],
   "source": [
    "pre_90s = prices[prices.index < datetime(1990,1,1)]\n",
    "pre_90s.tail()"
   ]
  },
  {
   "cell_type": "code",
   "execution_count": 9,
   "metadata": {
    "hidden": true
   },
   "outputs": [],
   "source": [
    "pre_90s_mth_price = pre_90s['Adj Close']\n",
    "pre_90s_mth_rtns = pre_90s_mth_price.pct_change()"
   ]
  },
  {
   "cell_type": "code",
   "execution_count": 10,
   "metadata": {
    "hidden": true
   },
   "outputs": [],
   "source": [
    "pre_90s_jan_rtns = pre_90s_mth_rtns[pre_90s_mth_rtns.index.month==1]\n",
    "pre_90s_other_rtns = pre_90s_mth_rtns[pre_90s_mth_rtns.index.month!=1]"
   ]
  },
  {
   "cell_type": "code",
   "execution_count": 11,
   "metadata": {
    "hidden": true
   },
   "outputs": [
    {
     "name": "stdout",
     "output_type": "stream",
     "text": [
      "BartlettResult(statistic=6.2331774447014991, pvalue=0.012537856336879023)\n"
     ]
    }
   ],
   "source": [
    "print(stats.bartlett(pre_90s_jan_rtns, pre_90s_other_rtns))"
   ]
  },
  {
   "cell_type": "markdown",
   "metadata": {
    "hidden": true
   },
   "source": [
    "#### Heating Oil"
   ]
  },
  {
   "cell_type": "markdown",
   "metadata": {
    "hidden": true
   },
   "source": [
    "[data](https://fred.stlouisfed.org/series/WHOILNYH)"
   ]
  },
  {
   "cell_type": "code",
   "execution_count": 68,
   "metadata": {
    "hidden": true
   },
   "outputs": [
    {
     "data": {
      "text/html": [
       "<div>\n",
       "<style scoped>\n",
       "    .dataframe tbody tr th:only-of-type {\n",
       "        vertical-align: middle;\n",
       "    }\n",
       "\n",
       "    .dataframe tbody tr th {\n",
       "        vertical-align: top;\n",
       "    }\n",
       "\n",
       "    .dataframe thead th {\n",
       "        text-align: right;\n",
       "    }\n",
       "</style>\n",
       "<table border=\"1\" class=\"dataframe\">\n",
       "  <thead>\n",
       "    <tr style=\"text-align: right;\">\n",
       "      <th></th>\n",
       "      <th>observation_date</th>\n",
       "      <th>WHOILNYH</th>\n",
       "    </tr>\n",
       "  </thead>\n",
       "  <tbody>\n",
       "    <tr>\n",
       "      <th>0</th>\n",
       "      <td>1986-06-06</td>\n",
       "      <td>0.389</td>\n",
       "    </tr>\n",
       "    <tr>\n",
       "      <th>1</th>\n",
       "      <td>1986-06-13</td>\n",
       "      <td>0.384</td>\n",
       "    </tr>\n",
       "    <tr>\n",
       "      <th>2</th>\n",
       "      <td>1986-06-20</td>\n",
       "      <td>0.375</td>\n",
       "    </tr>\n",
       "    <tr>\n",
       "      <th>3</th>\n",
       "      <td>1986-06-27</td>\n",
       "      <td>0.374</td>\n",
       "    </tr>\n",
       "    <tr>\n",
       "      <th>4</th>\n",
       "      <td>1986-07-04</td>\n",
       "      <td>0.363</td>\n",
       "    </tr>\n",
       "  </tbody>\n",
       "</table>\n",
       "</div>"
      ],
      "text/plain": [
       "  observation_date  WHOILNYH\n",
       "0       1986-06-06     0.389\n",
       "1       1986-06-13     0.384\n",
       "2       1986-06-20     0.375\n",
       "3       1986-06-27     0.374\n",
       "4       1986-07-04     0.363"
      ]
     },
     "execution_count": 68,
     "metadata": {},
     "output_type": "execute_result"
    }
   ],
   "source": [
    "import numpy as np\n",
    "import datetime\n",
    "import pandas as pd\n",
    "df = pd.read_excel(\"data/WHOILNYH.xls\", skiprows=10)\n",
    "df.head()"
   ]
  },
  {
   "cell_type": "code",
   "execution_count": 25,
   "metadata": {
    "hidden": true
   },
   "outputs": [],
   "source": [
    "df.set_index(\"observation_date\", inplace=True)"
   ]
  },
  {
   "cell_type": "code",
   "execution_count": 36,
   "metadata": {
    "hidden": true
   },
   "outputs": [],
   "source": [
    "df_mth = df.resample('BM').last()"
   ]
  },
  {
   "cell_type": "code",
   "execution_count": 37,
   "metadata": {
    "hidden": true,
    "scrolled": true
   },
   "outputs": [],
   "source": [
    "jul_price = df_mth[df_mth.index.month == 7]"
   ]
  },
  {
   "cell_type": "code",
   "execution_count": 38,
   "metadata": {
    "hidden": true
   },
   "outputs": [],
   "source": [
    "jan_price = df_mth[df_mth.index.month == 1]"
   ]
  },
  {
   "cell_type": "code",
   "execution_count": 39,
   "metadata": {
    "hidden": true
   },
   "outputs": [
    {
     "data": {
      "text/html": [
       "<div>\n",
       "<style scoped>\n",
       "    .dataframe tbody tr th:only-of-type {\n",
       "        vertical-align: middle;\n",
       "    }\n",
       "\n",
       "    .dataframe tbody tr th {\n",
       "        vertical-align: top;\n",
       "    }\n",
       "\n",
       "    .dataframe thead th {\n",
       "        text-align: right;\n",
       "    }\n",
       "</style>\n",
       "<table border=\"1\" class=\"dataframe\">\n",
       "  <thead>\n",
       "    <tr style=\"text-align: right;\">\n",
       "      <th></th>\n",
       "      <th>WHOILNYH</th>\n",
       "    </tr>\n",
       "    <tr>\n",
       "      <th>observation_date</th>\n",
       "      <th></th>\n",
       "    </tr>\n",
       "  </thead>\n",
       "  <tbody>\n",
       "    <tr>\n",
       "      <th>1986-07-31</th>\n",
       "      <td>0.327</td>\n",
       "    </tr>\n",
       "    <tr>\n",
       "      <th>1987-07-31</th>\n",
       "      <td>0.542</td>\n",
       "    </tr>\n",
       "    <tr>\n",
       "      <th>1988-07-29</th>\n",
       "      <td>0.441</td>\n",
       "    </tr>\n",
       "    <tr>\n",
       "      <th>1989-07-31</th>\n",
       "      <td>0.487</td>\n",
       "    </tr>\n",
       "    <tr>\n",
       "      <th>1990-07-31</th>\n",
       "      <td>0.561</td>\n",
       "    </tr>\n",
       "  </tbody>\n",
       "</table>\n",
       "</div>"
      ],
      "text/plain": [
       "                  WHOILNYH\n",
       "observation_date          \n",
       "1986-07-31           0.327\n",
       "1987-07-31           0.542\n",
       "1988-07-29           0.441\n",
       "1989-07-31           0.487\n",
       "1990-07-31           0.561"
      ]
     },
     "execution_count": 39,
     "metadata": {},
     "output_type": "execute_result"
    }
   ],
   "source": [
    "jul_price.head()"
   ]
  },
  {
   "cell_type": "code",
   "execution_count": 41,
   "metadata": {
    "hidden": true,
    "scrolled": true
   },
   "outputs": [
    {
     "data": {
      "text/html": [
       "<div>\n",
       "<style scoped>\n",
       "    .dataframe tbody tr th:only-of-type {\n",
       "        vertical-align: middle;\n",
       "    }\n",
       "\n",
       "    .dataframe tbody tr th {\n",
       "        vertical-align: top;\n",
       "    }\n",
       "\n",
       "    .dataframe thead th {\n",
       "        text-align: right;\n",
       "    }\n",
       "</style>\n",
       "<table border=\"1\" class=\"dataframe\">\n",
       "  <thead>\n",
       "    <tr style=\"text-align: right;\">\n",
       "      <th></th>\n",
       "      <th>WHOILNYH</th>\n",
       "    </tr>\n",
       "    <tr>\n",
       "      <th>observation_date</th>\n",
       "      <th></th>\n",
       "    </tr>\n",
       "  </thead>\n",
       "  <tbody>\n",
       "    <tr>\n",
       "      <th>1987-01-30</th>\n",
       "      <td>0.515</td>\n",
       "    </tr>\n",
       "    <tr>\n",
       "      <th>1988-01-29</th>\n",
       "      <td>0.493</td>\n",
       "    </tr>\n",
       "    <tr>\n",
       "      <th>1989-01-31</th>\n",
       "      <td>0.525</td>\n",
       "    </tr>\n",
       "    <tr>\n",
       "      <th>1990-01-31</th>\n",
       "      <td>0.611</td>\n",
       "    </tr>\n",
       "    <tr>\n",
       "      <th>1991-01-31</th>\n",
       "      <td>0.728</td>\n",
       "    </tr>\n",
       "  </tbody>\n",
       "</table>\n",
       "</div>"
      ],
      "text/plain": [
       "                  WHOILNYH\n",
       "observation_date          \n",
       "1987-01-30           0.515\n",
       "1988-01-29           0.493\n",
       "1989-01-31           0.525\n",
       "1990-01-31           0.611\n",
       "1991-01-31           0.728"
      ]
     },
     "execution_count": 41,
     "metadata": {},
     "output_type": "execute_result"
    }
   ],
   "source": [
    "jan_price.head()"
   ]
  },
  {
   "cell_type": "code",
   "execution_count": 47,
   "metadata": {
    "hidden": true
   },
   "outputs": [
    {
     "data": {
      "text/plain": [
       "0.188"
      ]
     },
     "execution_count": 47,
     "metadata": {},
     "output_type": "execute_result"
    }
   ],
   "source": [
    "0.515- 0.327"
   ]
  },
  {
   "cell_type": "code",
   "execution_count": 48,
   "metadata": {
    "hidden": true
   },
   "outputs": [
    {
     "data": {
      "text/plain": [
       "-0.049000000000000044"
      ]
     },
     "execution_count": 48,
     "metadata": {},
     "output_type": "execute_result"
    }
   ],
   "source": [
    "0.493 - 0.542"
   ]
  },
  {
   "cell_type": "code",
   "execution_count": 55,
   "metadata": {
    "hidden": true
   },
   "outputs": [],
   "source": [
    "res = (jan_price.values - jul_price.values)/jul_price.values"
   ]
  },
  {
   "cell_type": "code",
   "execution_count": 56,
   "metadata": {
    "hidden": true
   },
   "outputs": [
    {
     "data": {
      "text/plain": [
       "0.10816980919231184"
      ]
     },
     "execution_count": 56,
     "metadata": {},
     "output_type": "execute_result"
    }
   ],
   "source": [
    "res.mean()"
   ]
  },
  {
   "cell_type": "code",
   "execution_count": 57,
   "metadata": {
    "hidden": true
   },
   "outputs": [
    {
     "data": {
      "text/plain": [
       "0.35130734584470585"
      ]
     },
     "execution_count": 57,
     "metadata": {},
     "output_type": "execute_result"
    }
   ],
   "source": [
    "res.std()"
   ]
  },
  {
   "cell_type": "code",
   "execution_count": 80,
   "metadata": {
    "hidden": true
   },
   "outputs": [
    {
     "data": {
      "text/plain": [
       "0.30790648266184539"
      ]
     },
     "execution_count": 80,
     "metadata": {},
     "output_type": "execute_result"
    }
   ],
   "source": [
    "res.mean() / res.std()"
   ]
  },
  {
   "cell_type": "code",
   "execution_count": 58,
   "metadata": {
    "hidden": true
   },
   "outputs": [
    {
     "data": {
      "text/plain": [
       "numpy.ndarray"
      ]
     },
     "execution_count": 58,
     "metadata": {},
     "output_type": "execute_result"
    }
   ],
   "source": [
    "type(res)"
   ]
  },
  {
   "cell_type": "code",
   "execution_count": 62,
   "metadata": {
    "hidden": true
   },
   "outputs": [],
   "source": [
    "import matplotlib.pyplot as plt\n",
    "import seaborn as sns\n",
    "sns.set()"
   ]
  },
  {
   "cell_type": "code",
   "execution_count": 65,
   "metadata": {
    "hidden": true
   },
   "outputs": [
    {
     "data": {
      "image/png": "[encoded data removed]",
      "text/plain": [
       "<matplotlib.figure.Figure at 0x1deac470898>"
      ]
     },
     "metadata": {},
     "output_type": "display_data"
    }
   ],
   "source": [
    "plt.hist(res, bins=50);"
   ]
  },
  {
   "cell_type": "code",
   "execution_count": 73,
   "metadata": {
    "hidden": true
   },
   "outputs": [
    {
     "data": {
      "text/plain": [
       "12"
      ]
     },
     "execution_count": 73,
     "metadata": {},
     "output_type": "execute_result"
    }
   ],
   "source": [
    "len(res[res < 0])"
   ]
  },
  {
   "cell_type": "code",
   "execution_count": 74,
   "metadata": {
    "hidden": true
   },
   "outputs": [
    {
     "data": {
      "text/plain": [
       "20"
      ]
     },
     "execution_count": 74,
     "metadata": {},
     "output_type": "execute_result"
    }
   ],
   "source": [
    "len(res[res > 0])"
   ]
  },
  {
   "cell_type": "code",
   "execution_count": 75,
   "metadata": {
    "hidden": true
   },
   "outputs": [
    {
     "data": {
      "text/plain": [
       "32"
      ]
     },
     "execution_count": 75,
     "metadata": {},
     "output_type": "execute_result"
    }
   ],
   "source": [
    "len(res)"
   ]
  },
  {
   "cell_type": "code",
   "execution_count": 78,
   "metadata": {
    "hidden": true
   },
   "outputs": [
    {
     "data": {
      "text/plain": [
       "0.063902101424321914"
      ]
     },
     "execution_count": 78,
     "metadata": {},
     "output_type": "execute_result"
    }
   ],
   "source": [
    "res[res < 1.].mean()"
   ]
  },
  {
   "cell_type": "code",
   "execution_count": 79,
   "metadata": {
    "hidden": true
   },
   "outputs": [
    {
     "data": {
      "text/plain": [
       "1.9809651441539795"
      ]
     },
     "execution_count": 79,
     "metadata": {},
     "output_type": "execute_result"
    }
   ],
   "source": [
    "res[res < 1.].sum()"
   ]
  },
  {
   "cell_type": "code",
   "execution_count": 81,
   "metadata": {
    "hidden": true
   },
   "outputs": [
    {
     "data": {
      "text/plain": [
       "0.032258064516129031"
      ]
     },
     "execution_count": 81,
     "metadata": {},
     "output_type": "execute_result"
    }
   ],
   "source": [
    "res[res < 1.].mean() / res[res < 1.].sum()"
   ]
  },
  {
   "cell_type": "markdown",
   "metadata": {
    "heading_collapsed": true,
    "hidden": true
   },
   "source": [
    "# Options"
   ]
  },
  {
   "cell_type": "markdown",
   "metadata": {
    "heading_collapsed": true,
    "hidden": true
   },
   "source": [
    "### Payoff Diagram"
   ]
  },
  {
   "cell_type": "code",
   "execution_count": null,
   "metadata": {
    "hidden": true
   },
   "outputs": [],
   "source": [
    "def payoff_calls(S, K):\n",
    "    return np.maximum(0., S - K)"
   ]
  },
  {
   "cell_type": "code",
   "execution_count": null,
   "metadata": {
    "hidden": true
   },
   "outputs": [],
   "source": [
    "payoff_calls(80, 100)"
   ]
  },
  {
   "cell_type": "code",
   "execution_count": null,
   "metadata": {
    "hidden": true
   },
   "outputs": [],
   "source": [
    "payoff_calls(120, 100)"
   ]
  },
  {
   "cell_type": "code",
   "execution_count": null,
   "metadata": {
    "hidden": true
   },
   "outputs": [],
   "source": [
    "S = np.arange(10, 110, 10)\n",
    "X = 50\n",
    "payoff_calls(S, X)"
   ]
  },
  {
   "cell_type": "code",
   "execution_count": null,
   "metadata": {
    "hidden": true
   },
   "outputs": [],
   "source": [
    "import seaborn as sns\n",
    "sns.set()\n",
    "import matplotlib.pyplot as plt\n",
    "%matplotlib inline\n",
    "plt.plot(S, payoff_calls(S, X));"
   ]
  },
  {
   "cell_type": "markdown",
   "metadata": {
    "heading_collapsed": true,
    "hidden": true
   },
   "source": [
    "### Profit/Loss "
   ]
  },
  {
   "cell_type": "code",
   "execution_count": null,
   "metadata": {
    "hidden": true
   },
   "outputs": [],
   "source": [
    "call_premium = 2.5"
   ]
  },
  {
   "cell_type": "code",
   "execution_count": null,
   "metadata": {
    "hidden": true
   },
   "outputs": [],
   "source": [
    "S = np.arange(40, 80, 10)\n",
    "X = 50\n",
    "pnl = payoff_calls(S, X) - call_premium\n",
    "pnl"
   ]
  },
  {
   "cell_type": "code",
   "execution_count": null,
   "metadata": {
    "hidden": true
   },
   "outputs": [],
   "source": [
    "plt.title(\"Profit / Loss\")\n",
    "plt.xlabel(\"Stock Price\")\n",
    "plt.ylabel(\"PnL\")\n",
    "plt.plot(S, pnl);\n",
    "plt.plot(S, -pnl);\n",
    "plt.annotate(\"Call Option Buyer\", xy=(60, 10), xytext=(51, 15),\n",
    "             arrowprops=dict(facecolor='blue', shrink=0.1), );\n",
    "plt.annotate(\"Call Option Seller\", xy=(60, -10), xytext=(51, -15),\n",
    "             arrowprops=dict(facecolor='green', shrink=0.1), );\n",
    "plt.axhline(0, ls='--', lw=1.0);\n",
    "plt.axvline(50, ls='--', lw=1.0);\n",
    "plt.annotate(\"Exercise Price\", xy=(50, 0), xytext=(40, -10),\n",
    "             arrowprops=dict(facecolor='k', shrink=0.1), );"
   ]
  },
  {
   "cell_type": "markdown",
   "metadata": {
    "hidden": true
   },
   "source": [
    "***"
   ]
  }
 ],
 "metadata": {
  "kernelspec": {
   "display_name": "Python 3",
   "language": "python",
   "name": "python3"
  },
  "language_info": {
   "codemirror_mode": {
    "name": "ipython",
    "version": 3
   },
   "file_extension": ".py",
   "mimetype": "text/x-python",
   "name": "python",
   "nbconvert_exporter": "python",
   "pygments_lexer": "ipython3",
   "version": "3.5.5"
  }
 },
 "nbformat": 4,
 "nbformat_minor": 2
}
